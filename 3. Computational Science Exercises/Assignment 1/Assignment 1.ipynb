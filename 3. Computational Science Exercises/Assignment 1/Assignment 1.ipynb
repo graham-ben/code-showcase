{
 "cells": [
  {
   "cell_type": "code",
   "execution_count": 1,
   "metadata": {},
   "outputs": [],
   "source": [
    "# Importing packages\n",
    "import numpy as np\n",
    "import matplotlib.pyplot as plt "
   ]
  },
  {
   "cell_type": "markdown",
   "metadata": {},
   "source": [
    "**Q1**"
   ]
  },
  {
   "cell_type": "code",
   "execution_count": 2,
   "metadata": {},
   "outputs": [],
   "source": [
    "def VectorLength(x,y):\n",
    "    # Assigns the square root of the sum of the squares to the variable \"length\"\n",
    "    length = np.sqrt(x**2+y**2)\n",
    "    # Returning the value of the variable \"length\" when the function is called\n",
    "    return length"
   ]
  },
  {
   "cell_type": "code",
   "execution_count": 3,
   "metadata": {},
   "outputs": [
    {
     "name": "stdout",
     "output_type": "stream",
     "text": [
      "v = (5,6) has length 7.810249675906654\n",
      "v = (-1,5) has length 5.0990195135927845\n"
     ]
    }
   ],
   "source": [
    "# Printing results of function calls\n",
    "print(\"v = (5,6) has length \" + str(VectorLength(5,6)))\n",
    "print(\"v = (-1,5) has length \" + str(VectorLength(-1,5)))"
   ]
  },
  {
   "cell_type": "code",
   "execution_count": 4,
   "metadata": {},
   "outputs": [
    {
     "name": "stdout",
     "output_type": "stream",
     "text": [
      "Sin(1) = 0.841\n"
     ]
    }
   ],
   "source": [
    "print(\"Sin(1) = %.3f\" % np.sin(1))\n",
    "# \"f\" is a placeholder for the floating point number outputed by the sin function"
   ]
  },
  {
   "cell_type": "markdown",
   "metadata": {},
   "source": [
    "**Q2**"
   ]
  },
  {
   "cell_type": "code",
   "execution_count": 5,
   "metadata": {},
   "outputs": [],
   "source": [
    "# Function to check if a number is prime\n",
    "def IsPrime(n):\n",
    "    if n == 1:\n",
    "        # In the case that n is 1, it is not prime\n",
    "        return 0\n",
    "    i = 2\n",
    "    # The fix: Replacing the strict inequality with \"<=\" so that the square root of perfect squares is checked before the loop ends\n",
    "    while i <= np.sqrt(n):\n",
    "        # Printing the n and i values for each run of the loop\n",
    "        #print(\"n: \" + str(n) + \"i: \" + str(i))\n",
    "        # For each i check if it divides n\n",
    "        if(n % i == 0):\n",
    "            return 0\n",
    "        i += 1\n",
    "    # If no divisors are found, the number is prime\n",
    "    return 1\n"
   ]
  },
  {
   "cell_type": "code",
   "execution_count": 6,
   "metadata": {},
   "outputs": [
    {
     "name": "stdout",
     "output_type": "stream",
     "text": [
      "No. 0 IsPrime: 1\n",
      "No. 1 IsPrime: 0\n",
      "No. 2 IsPrime: 1\n",
      "No. 3 IsPrime: 1\n",
      "No. 4 IsPrime: 0\n",
      "No. 5 IsPrime: 1\n",
      "No. 6 IsPrime: 0\n",
      "No. 7 IsPrime: 1\n",
      "No. 8 IsPrime: 0\n",
      "No. 9 IsPrime: 0\n",
      "No. 10 IsPrime: 0\n"
     ]
    }
   ],
   "source": [
    "for j in range(0,11):\n",
    "    print(\"No. \" + str(j) + \" IsPrime: \" + str(IsPrime(j)))"
   ]
  },
  {
   "cell_type": "code",
   "execution_count": 7,
   "metadata": {},
   "outputs": [
    {
     "data": {
      "text/plain": [
       "0"
      ]
     },
     "execution_count": 7,
     "metadata": {},
     "output_type": "execute_result"
    }
   ],
   "source": [
    "IsPrime(9)"
   ]
  },
  {
   "cell_type": "code",
   "execution_count": 42,
   "metadata": {},
   "outputs": [
    {
     "name": "stdout",
     "output_type": "stream",
     "text": [
      "The total number of primes less than 1000: 168\n"
     ]
    }
   ],
   "source": [
    "counter = 0\n",
    "# Interpreting the question as a strict inequality, running the loop from 1 to 999\n",
    "for k in range(1,1000):\n",
    "    if IsPrime(k) == 1:\n",
    "        # Iterating the counter for each number found to be prime\n",
    "        counter += 1\n",
    "# Printing the number of primes from 1 to 999\n",
    "print(\"The total number of primes less than 1000: \" + str(counter))"
   ]
  },
  {
   "cell_type": "code",
   "execution_count": 9,
   "metadata": {},
   "outputs": [],
   "source": [
    "def PrimeCount(x):\n",
    "    counter = 0\n",
    "    # Given that range() excludes the upper bound, x+1 used so that x is included in the loop\n",
    "    for l in range(1,x+1):\n",
    "        if IsPrime(l) == 1:\n",
    "            counter += 1\n",
    "    return counter"
   ]
  },
  {
   "cell_type": "code",
   "execution_count": 43,
   "metadata": {},
   "outputs": [
    {
     "name": "stdout",
     "output_type": "stream",
     "text": [
      "The number of primes from 1 to 1000 (inclusive): 168\n",
      "The number of primes from 1 to 10000 (inclusive): 1229\n"
     ]
    }
   ],
   "source": [
    "# Printing the number of primes from 1 to 1000\n",
    "print(\"The number of primes from 1 to 1000 (inclusive): \" + str(PrimeCount(1000)))\n",
    "# Printing the number of primes from 1 to 10000\n",
    "print(\"The number of primes from 1 to 10000 (inclusive): \" + str(PrimeCount(10000)))"
   ]
  },
  {
   "cell_type": "code",
   "execution_count": 52,
   "metadata": {},
   "outputs": [],
   "source": [
    "# Creating an array of numbers starting at 0, ending at 39, in increments of 1\n",
    "x = np.arange(0,40,1)\n",
    "# Creating an array of length 40, filled with 0s\n",
    "Pi = np.zeros(40)\n",
    "i = 0\n",
    "while i < np.size(Pi):\n",
    "    # Assigning the results of the PrimeCount function to each corresponding index in the 'Pi' array \n",
    "    Pi[i] = PrimeCount(i)\n",
    "    i += 1"
   ]
  },
  {
   "cell_type": "code",
   "execution_count": 53,
   "metadata": {},
   "outputs": [
    {
     "data": {
      "image/png": "[encoded data removed]",
      "text/plain": [
       "<Figure size 432x288 with 1 Axes>"
      ]
     },
     "metadata": {
      "needs_background": "light"
     },
     "output_type": "display_data"
    }
   ],
   "source": [
    "plt.plot(x, Pi, 'ro')\n",
    "# Adding gridlines\n",
    "plt.grid()\n",
    "# Naming the x label\n",
    "plt.xlabel('x')\n",
    "# Naming the y label\n",
    "plt.ylabel('Pi(x)')\n",
    "plt.title('PrimeCount function')\n",
    "plt.show()"
   ]
  },
  {
   "cell_type": "markdown",
   "metadata": {},
   "source": [
    "**Q3**"
   ]
  },
  {
   "cell_type": "code",
   "execution_count": 55,
   "metadata": {},
   "outputs": [
    {
     "name": "stdout",
     "output_type": "stream",
     "text": [
      "[ 0.1  0.2  0.3  0.4  0.5  0.6  0.7  0.8  0.9  1.   1.1  1.2  1.3  1.4\n",
      "  1.5  1.6  1.7  1.8  1.9  2.   2.1  2.2  2.3  2.4  2.5  2.6  2.7  2.8\n",
      "  2.9  3.   3.1  3.2  3.3  3.4  3.5  3.6  3.7  3.8  3.9  4.   4.1  4.2\n",
      "  4.3  4.4  4.5  4.6  4.7  4.8  4.9  5.   5.1  5.2  5.3  5.4  5.5  5.6\n",
      "  5.7  5.8  5.9  6.   6.1  6.2  6.3  6.4  6.5  6.6  6.7  6.8  6.9  7.\n",
      "  7.1  7.2  7.3  7.4  7.5  7.6  7.7  7.8  7.9  8.   8.1  8.2  8.3  8.4\n",
      "  8.5  8.6  8.7  8.8  8.9  9.   9.1  9.2  9.3  9.4  9.5  9.6  9.7  9.8\n",
      "  9.9 10. ]\n"
     ]
    }
   ],
   "source": [
    "graphdata = np.loadtxt('PowerLawOrExponential.txt')\n",
    "#print(graphdata)\n",
    "# Assigning the data in the first column to the variable 'x' and the data in the second column to the variable 'y'\n",
    "x = graphdata[:,0]\n",
    "y = graphdata[:,1]\n",
    "print(x)"
   ]
  },
  {
   "cell_type": "code",
   "execution_count": 66,
   "metadata": {},
   "outputs": [
    {
     "data": {
      "image/png": "[encoded data removed]",
      "text/plain": [
       "<Figure size 432x288 with 1 Axes>"
      ]
     },
     "metadata": {
      "needs_background": "light"
     },
     "output_type": "display_data"
    }
   ],
   "source": [
    "plt.plot(x, np.log(y), 'g-', label = 'Log Plot')\n",
    "# Adding gridlines\n",
    "plt.grid()\n",
    "# Naming the x label\n",
    "plt.xlabel('x')\n",
    "# Naming the y label\n",
    "plt.ylabel('log(y)')\n",
    "plt.title(\"log(y) vs x\")\n",
    "plt.legend(loc='best')\n",
    "plt.show()"
   ]
  },
  {
   "cell_type": "code",
   "execution_count": 65,
   "metadata": {},
   "outputs": [
    {
     "data": {
      "image/png": "[encoded data removed]",
      "text/plain": [
       "<Figure size 432x288 with 1 Axes>"
      ]
     },
     "metadata": {
      "needs_background": "light"
     },
     "output_type": "display_data"
    }
   ],
   "source": [
    "plt.plot(np.log(x), np.log(y), 'b-', label = 'Log-Log Plot')\n",
    "# Adding gridlines\n",
    "plt.grid()\n",
    "# Naming the x label\n",
    "plt.xlabel('log(x)')\n",
    "# Naming the y label\n",
    "plt.ylabel('log(y)')\n",
    "plt.title(\"log(y) vs log(x)\")\n",
    "plt.legend(loc='best')\n",
    "plt.show()"
   ]
  },
  {
   "cell_type": "code",
   "execution_count": 67,
   "metadata": {},
   "outputs": [
    {
     "name": "stdout",
     "output_type": "stream",
     "text": [
      "slope = 2.0\n"
     ]
    }
   ],
   "source": [
    "#The value for log(y) at (log(x) = -2) is -4\n",
    "#The value for log(y) at (log(x) = 0) is 0\n",
    "#Therefore the slope is (-4)/(-2) = 2\n",
    "\n",
    "#Alternative method using numpy:\n",
    "X = np.log(x) - np.log(x).mean()\n",
    "Y = np.log(y) - np.log(y).mean()\n",
    "\n",
    "slope = (X.dot(Y)) / (X.dot(X))\n",
    "print('slope = ' + str(slope))"
   ]
  },
  {
   "cell_type": "markdown",
   "metadata": {},
   "source": [
    "The data are a discrete representation of the $x^{n}$ (power law), not $e^{nx}$, since a straight line is obtained on the Log-Log Plot, not on the Log Plot. The value of n can be obtained by reading the slope from the Log-Log Plot (calculating the value as shown above or using a package). In this case, $n\\,=\\,2$."
   ]
  }
 ],
 "metadata": {
  "kernelspec": {
   "display_name": "Python 3",
   "language": "python",
   "name": "python3"
  },
  "language_info": {
   "codemirror_mode": {
    "name": "ipython",
    "version": 3
   },
   "file_extension": ".py",
   "mimetype": "text/x-python",
   "name": "python",
   "nbconvert_exporter": "python",
   "pygments_lexer": "ipython3",
   "version": "3.7.1"
  }
 },
 "nbformat": 4,
 "nbformat_minor": 2
}
