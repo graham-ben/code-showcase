{
 "cells": [
  {
   "cell_type": "markdown",
   "metadata": {},
   "source": [
    "# Assignment 4\n",
    "\n",
    "This assignment covers material on numerical integration. The assignment is due on by 7pm on Friday the 6th of March.\n",
    "\n",
    "The breakdown of the marks is as follows:\n",
    "\n",
    "Question 0 - [1 mark]  \n",
    "Question 1 - [4 marks]  \n",
    "Questino 2 - [5 marks]  \n",
    "Question 3 - [5 marks]  \n",
    "Question 4 - [5 marks]  \n",
    "Question 5 - [5 marks]  \n",
    "Question 6 - [5 marks]  "
   ]
  },
  {
   "cell_type": "markdown",
   "metadata": {},
   "source": [
    "# Question 0\n",
    "\n",
    "You should have saved this notebook to your ACM20030-Assignments folder. Now:\n",
    "- commit the notebook to your local repository\n",
    "- push the changes to the GitHub"
   ]
  },
  {
   "cell_type": "code",
   "execution_count": 1,
   "metadata": {},
   "outputs": [],
   "source": [
    "import numpy as np\n",
    "import matplotlib.pyplot as plt\n",
    "from scipy import integrate\n",
    "import math\n",
    "\n",
    "# The below commands make the font and image size bigger\n",
    "plt.rcParams.update({'font.size': 22})\n",
    "plt.rcParams[\"figure.figsize\"] = (15,10)"
   ]
  },
  {
   "cell_type": "markdown",
   "metadata": {},
   "source": [
    "# Question 1"
   ]
  },
  {
   "cell_type": "markdown",
   "metadata": {},
   "source": [
    "In this question you will be asked to evaluate definite integrals in the form:\n",
    "\n",
    "$$ \\int_a^b f(x)\\, dx$$ \n",
    "\n",
    "using Simpson's rule. You can copy code from the [examples repository](https://github.com/nielsw2/ACM20030-Examples) if you wish, but if you do remove all the plotting functionality. Do not use SciPy or any other library to evaluate the integrals, unless explicitly asked to do so."
   ]
  },
  {
   "cell_type": "code",
   "execution_count": null,
   "metadata": {},
   "outputs": [],
   "source": []
  },
  {
   "cell_type": "markdown",
   "metadata": {},
   "source": [
    "## Q1 a\n",
    "\n",
    "Evaluate $$ \\frac{1}{\\sqrt{\\pi}}\\int^{10}_{-10} e^{-x^2}\\, dx$$\n",
    "\n",
    "Use enough strips so that the result is accurate to a relative error of of at least 1e-6. Hint: to within machine precision the above integral evaluates to  1 ."
   ]
  },
  {
   "cell_type": "code",
   "execution_count": 2,
   "metadata": {},
   "outputs": [
    {
     "name": "stdout",
     "output_type": "stream",
     "text": [
      "The integral is evaluated as 1.0000001338264555 which has an error of 1.3382645547288519e-07 , which is less than 1e-6.\n"
     ]
    }
   ],
   "source": [
    "# Defining a Simpson's rule function\n",
    "\n",
    "def SimpsonsIntegrate(f, a, b, N):\n",
    "    dx = (b-a)/N\n",
    "    xi = a\n",
    "    area = 0\n",
    "    i = 0\n",
    "    while i < N:  \n",
    "        # The below line applies Simpson's rule\n",
    "        area += dx/6*(f(xi) + 4*f((2*xi+dx)/2) + f(xi+dx))\n",
    "        \n",
    "        xi += dx\n",
    "        i += 1 \n",
    "    return area\n",
    "\n",
    "# Defining the Q1(a) function\n",
    "\n",
    "def f(x):\n",
    "    return np.exp(-x**2)/np.sqrt(np.pi)\n",
    "\n",
    "# Evaluating the integral\n",
    "\n",
    "answer1 = SimpsonsIntegrate(f,-10,10,25)\n",
    "\n",
    "print(\"The integral is evaluated as\", answer1, \"which has an error of\", abs(1 - answer1), \", which is less than 1e-6.\")"
   ]
  },
  {
   "cell_type": "markdown",
   "metadata": {},
   "source": [
    "## Q1 b\n",
    "\n",
    "Evaluate\n",
    "\n",
    "$$\\int^{50}_{-50} \\frac{1}{\\cosh x}\\,dx $$\n",
    "\n",
    "Use enough strips so that the result is accurate to a relative error of at least `1e-6`. Hint: to within machine precision the above integral evaluates to $\\pi$."
   ]
  },
  {
   "cell_type": "code",
   "execution_count": 3,
   "metadata": {},
   "outputs": [
    {
     "name": "stdout",
     "output_type": "stream",
     "text": [
      "The integral is evaluated as 3.1415926535091985 which has an error of 8.059464207121891e-11 , which is less than 1e-6.\n"
     ]
    }
   ],
   "source": [
    "# Defining the function\n",
    "\n",
    "def g(x):\n",
    "    return 1/np.cosh(x)\n",
    "\n",
    "# Evaluating the integral\n",
    "\n",
    "answer2 = SimpsonsIntegrate(g,-50,50,250)\n",
    "\n",
    "print(\"The integral is evaluated as\", answer2, \"which has an error of\", abs(math.pi - answer2), \", which is less than 1e-6.\")"
   ]
  },
  {
   "cell_type": "markdown",
   "metadata": {},
   "source": [
    "## Q1 c\n",
    "\n",
    "Use SciPy's `integrate.quad()` function to evaluate the integrals in Q1a and Q1b"
   ]
  },
  {
   "cell_type": "code",
   "execution_count": 4,
   "metadata": {},
   "outputs": [
    {
     "name": "stdout",
     "output_type": "stream",
     "text": [
      "(0.9999999999999999, 2.085612812503633e-13)\n",
      "(3.141592653589793, 5.5381858831212136e-11)\n"
     ]
    }
   ],
   "source": [
    "# Printing the results of the evaluated integrals\n",
    "\n",
    "print(integrate.quad(f, -10, 10))\n",
    "print(integrate.quad(g, -50, 50))"
   ]
  },
  {
   "cell_type": "markdown",
   "metadata": {},
   "source": [
    "# Question 2 - improper integrals\n",
    "\n",
    "In the lectures we looked at numerically evaluating indefinite integrals of the form\n",
    "\n",
    "$$ \\int^b_a f(x)\\, dx$$ where $a,b$ are finite. What about improper integrals where either $a$, $b$ or both are infinite? The methods we know so far cannot immediately be applied to these cases.\n",
    "\n",
    "One method is to transform the integral using the result\n",
    "\n",
    "$$ \\int_a^b f(x)\\, dx = \\int^{1/a}_{1/b} t^{-2} f(t^{-1})\\, dt$$\n",
    "\n",
    "which holds so long as $a,b>0$."
   ]
  },
  {
   "cell_type": "markdown",
   "metadata": {},
   "source": [
    "## Q2 a\n",
    "\n",
    "Using the above result numerically evaluate the following integral\n",
    "\n",
    "$$ \\int^\\infty_1 \\frac{\\log(x)}{x^3}\\,dx $$\n",
    "\n",
    "using Simpson's rule. Use 100 strips to evaluate the integral.\n",
    "\n",
    "Hint: you will have to use an `if` statement inside your transformed function for to deal with $t=0$. For this case it is useful to note that $\\lim_{t\\rightarrow0} t \\log(1/t) = 0$."
   ]
  },
  {
   "cell_type": "code",
   "execution_count": 5,
   "metadata": {},
   "outputs": [
    {
     "data": {
      "text/plain": [
       "0.2499980745946372"
      ]
     },
     "execution_count": 5,
     "metadata": {},
     "output_type": "execute_result"
    }
   ],
   "source": [
    "#letting t= 1/x, dt = -2/x**2\n",
    "# t**-2/t**-3 = t\n",
    "\n",
    "# Defining the Q2(a) function\n",
    "\n",
    "def h(t):\n",
    "    return t*np.log(t**-1)\n",
    "\n",
    "# Defining a specialised Simpson's rule function\n",
    "\n",
    "def SimpsonsIntegrateQ2a(f, a, b, N, plotMethod=False):\n",
    "    dx = (b-a)/N\n",
    "    xi = a\n",
    "    area = 0\n",
    "    i = 0\n",
    "    while i < N: \n",
    "        # Correcting t = 0 error, adding to the area for each point except x = 0\n",
    "        if xi == 0:\n",
    "            area += dx/6*(4*f((2*xi+dx)/2) + f(xi+dx))\n",
    "            \n",
    "            xi += dx\n",
    "            i += 1\n",
    "            continue\n",
    "        # The below line applies Simpson's rule\n",
    "        area += dx/6*(f(xi) + 4*f((2*xi+dx)/2) + f(xi+dx))\n",
    "        \n",
    "        xi += dx\n",
    "        i += 1 \n",
    "    return area\n",
    "\n",
    "\n",
    "SimpsonsIntegrateQ2a(h,0,1,100)"
   ]
  },
  {
   "cell_type": "markdown",
   "metadata": {},
   "source": [
    "## Q2 b\n",
    "\n",
    "Numerically evaluate\n",
    "\n",
    "$$ \\int^\\infty_0 \\frac{1}{(x+1)^3}\\,dx$$\n",
    "\n",
    "using Simpson's rule.\n",
    "\n",
    "Hint: break the integral into two integrals, one with a finite domain and one with an infinite domain. In each domain use 100 strips to evalute the integral. Check your answer against the analytic result."
   ]
  },
  {
   "cell_type": "code",
   "execution_count": 6,
   "metadata": {},
   "outputs": [
    {
     "name": "stdout",
     "output_type": "stream",
     "text": [
      "The integral is evaluated as 0.5000000000807215 which has an error of 8.072154056293357e-11 , less than 1e-10, when compared to the analytic result of 0.5\n"
     ]
    }
   ],
   "source": [
    "# From x=0 to x=1 using original Simpson's rule function\n",
    "def i(x):\n",
    "    return 1/(x+1)**3\n",
    "area1 = SimpsonsIntegrate(i, 0, 1, 100)\n",
    "\n",
    "# From x=1 to x=infinity\n",
    "# ie. from t=0 to t=1\n",
    "def k(t):\n",
    "    return t/(t+1)**3\n",
    "area2 = SimpsonsIntegrate(k, 0, 1, 100)\n",
    "\n",
    "\n",
    "\n",
    "total_area = area1+area2\n",
    "print(\"The integral is evaluated as\",total_area, \"which has an error of\", abs(total_area - 0.5) ,\", less than 1e-10, when compared to the analytic result of 0.5\")"
   ]
  },
  {
   "cell_type": "markdown",
   "metadata": {},
   "source": [
    "# Question 3 - Boole's rule\n",
    "\n",
    "Fitting the integrand to a quintic polynomial results in Boole's rule for integration. In the lecture the formula for Boole's rule was given as\n",
    "\n",
    "$$ \\int^b_a f(x)\\,dx \\simeq \\frac{2 \\Delta x}{45}\\left(7f_0 + 32 f_1 + 12 f_2 +32f_3 + 7 f_4\\right) $$\n",
    "\n",
    "where $\\Delta x = (b-a)/4$, and $f_i = f(a + i\\Delta x)$."
   ]
  },
  {
   "cell_type": "markdown",
   "metadata": {},
   "source": [
    "## Q3 a\n",
    "\n",
    "Write a function that numerically integrates another function using Boole's rule. Use the following function definition:"
   ]
  },
  {
   "cell_type": "code",
   "execution_count": 7,
   "metadata": {},
   "outputs": [],
   "source": [
    "# Defining a Boole's rule function\n",
    "\n",
    "def BooleIntegration(f, a, b, N):\n",
    "    dx = (b-a)/(4*N)\n",
    "    xi = a\n",
    "    area = 0\n",
    "    i = 0\n",
    "    \n",
    "    while i < N:  \n",
    "        # The below line applies Boole's rule\n",
    "        xi = a +4*i*dx\n",
    "        area += 2*dx/45*(7*f(xi)+32*f(xi+dx)+12*f(xi+2*dx)+32*f(xi+3*dx)+7*f(xi+4*dx))\n",
    "        \n",
    "        \n",
    "        i += 1\n",
    "    \n",
    "    return area"
   ]
  },
  {
   "cell_type": "markdown",
   "metadata": {},
   "source": [
    "Test your function by evaluating the following using 100 strips.\n",
    "\n",
    "$$ \\int_0^\\pi \\sin(x)\\,dx $$"
   ]
  },
  {
   "cell_type": "code",
   "execution_count": 8,
   "metadata": {},
   "outputs": [
    {
     "name": "stdout",
     "output_type": "stream",
     "text": [
      "The integral is evaluated as 1.999999999999998 which has an error of 1.9984014443252818e-15  when compared to the analytical result of 2.\n"
     ]
    }
   ],
   "source": [
    "# Defining the function\n",
    "\n",
    "def l(x):\n",
    "    return np.sin(x)\n",
    "\n",
    "# Printing the result\n",
    "\n",
    "answer3 = BooleIntegration(l,0,math.pi,100)\n",
    "\n",
    "print(\"The integral is evaluated as\",answer3, \"which has an error of\", abs(answer3 - 2) ,\" when compared to the analytical result of 2.\")"
   ]
  },
  {
   "cell_type": "markdown",
   "metadata": {},
   "source": [
    "## Q3 b\n",
    "\n",
    "For Boole's rule show that the global error scales as $\\Delta x^6$. The below plot shows a $\\Delta x^6$ reference line."
   ]
  },
  {
   "cell_type": "code",
   "execution_count": 9,
   "metadata": {},
   "outputs": [
    {
     "data": {
      "image/png": "[encoded data removed]",
      "text/plain": [
       "<Figure size 432x288 with 1 Axes>"
      ]
     },
     "metadata": {
      "needs_background": "light"
     },
     "output_type": "display_data"
    }
   ],
   "source": [
    "# Calculating the reference line\n",
    "x = np.linspace(10,48,100)\n",
    "y = x**-6\n",
    "\n",
    "# Analytical answer is \"2\" for Q3(a), so we plot the difference between the calculated answer and 2\n",
    "\n",
    "# Creating a matrix to store the global error points\n",
    "\n",
    "M = np.empty([38,2])\n",
    "N = 10\n",
    "\n",
    "imax = np.size(M[:,0])\n",
    "i = 0\n",
    "while i < imax:\n",
    "    \n",
    "    M[i,0] = N\n",
    "    M[i,1] = np.abs(BooleIntegration(l,0,math.pi,N)-2)\n",
    "    \n",
    "    i += 1\n",
    "    N += 1\n",
    "    #print(N) for debugging\n",
    "\n",
    "# Plotting the global error and reference line\n",
    "\n",
    "plt.yscale('log')\n",
    "plt.xscale('log')\n",
    "plt.grid(True)\n",
    "plt.plot(x,y, label = \"Δx^6\")\n",
    "plt.scatter(M[:,0],M[:,1], label = \"global error\")\n",
    "plt.legend();"
   ]
  },
  {
   "cell_type": "markdown",
   "metadata": {},
   "source": [
    "# Question 4 - integrand with a singularity\n",
    "\n",
    "The techniques developed in the lecture require the integrand to be continuous and bounded. What happens if there is a singularity in the integrand? In general these can be difficult to deal with (though some more generic methods exist - see, e.g., [Tanh-sinh quadrature](https://en.wikipedia.org/wiki/Tanh-sinh_quadrature)).\n",
    "\n",
    "In this example we will look at an explicit example that can be dealt with by a change of variables. Consider the identity:\n",
    "\n",
    "$$ \\int_0^1 \\frac{f(x)}{x^\\alpha}\\, dx = \\frac{1}{\\alpha} \\int_0^1 f(t^{1/\\alpha}) t^{(1-2\\alpha)/\\alpha}\\,dt$$\n",
    "\n",
    "which is achived by changing variables using $t = x^\\alpha$. This identity holds when $0 < \\alpha < 1$ and $f(x)$ is continous on $[0,1]$."
   ]
  },
  {
   "cell_type": "markdown",
   "metadata": {},
   "source": [
    "Let\n",
    "$$I = \\int^1_0 \\frac{\\cos(10x)}{x^{1/2}}\\,dx $$\n",
    "\n",
    "Plot the integrand in the range $[0,1]$, use a grid and label your axes."
   ]
  },
  {
   "cell_type": "code",
   "execution_count": 10,
   "metadata": {},
   "outputs": [
    {
     "name": "stderr",
     "output_type": "stream",
     "text": [
      "C:\\Users\\grayh\\Anaconda3\\lib\\site-packages\\ipykernel_launcher.py:3: RuntimeWarning: divide by zero encountered in true_divide\n",
      "  This is separate from the ipykernel package so we can avoid doing imports until\n"
     ]
    },
    {
     "data": {
      "image/png": "[encoded data removed]",
      "text/plain": [
       "<Figure size 432x288 with 1 Axes>"
      ]
     },
     "metadata": {
      "needs_background": "light"
     },
     "output_type": "display_data"
    }
   ],
   "source": [
    "# Defining the untransformed function\n",
    "def m(x):\n",
    "    return np.cos(10*x)/x**(1/2)\n",
    "\n",
    "# Plotting the function\n",
    "c = np.linspace(0,1,100)\n",
    "d = m(c)\n",
    "plt.grid(True)\n",
    "plt.plot(c,d, label = \"Integrand\")\n",
    "plt.legend();\n",
    "\n",
    "# Note: the error displayed below is due to the evaluation of the function at x=0\n",
    "# To obtain an (almost) identical plot without the error, the linspace can be defined as starting at 0.01, ie. a number close to x\n",
    "# Given that the plot is requested for the closed interval, the error was included."
   ]
  },
  {
   "cell_type": "markdown",
   "metadata": {},
   "source": [
    "Define and plot the transformed integrand. For the plot use a grid and label your axes."
   ]
  },
  {
   "cell_type": "code",
   "execution_count": 11,
   "metadata": {},
   "outputs": [
    {
     "data": {
      "image/png": "[encoded data removed]",
      "text/plain": [
       "<Figure size 432x288 with 1 Axes>"
      ]
     },
     "metadata": {
      "needs_background": "light"
     },
     "output_type": "display_data"
    }
   ],
   "source": [
    "#alpha = 1/2\n",
    "\n",
    "# Defining the transformed function\n",
    "\n",
    "def n(t):\n",
    "    return 2*np.cos(10*t**2)\n",
    "\n",
    "# Plotting the transformed function\n",
    "\n",
    "e = np.linspace(0,1,100)\n",
    "f = n(c)\n",
    "plt.grid(True)\n",
    "plt.plot(e,f, label = \"Transformed Integrand\")\n",
    "plt.legend();"
   ]
  },
  {
   "cell_type": "markdown",
   "metadata": {},
   "source": [
    "Numerically evaluate $I$ using Simpson's rule. Use 100 strips to do this."
   ]
  },
  {
   "cell_type": "code",
   "execution_count": 12,
   "metadata": {},
   "outputs": [
    {
     "data": {
      "text/plain": [
       "0.34636620914645183"
      ]
     },
     "execution_count": 12,
     "metadata": {},
     "output_type": "execute_result"
    }
   ],
   "source": [
    "SimpsonsIntegrate(n,0,1,100)"
   ]
  },
  {
   "cell_type": "markdown",
   "metadata": {},
   "source": [
    "# Question 5\n",
    "\n",
    "Write your own function to integrate the following data using Simpson's rule."
   ]
  },
  {
   "cell_type": "code",
   "execution_count": 13,
   "metadata": {},
   "outputs": [],
   "source": [
    "x = np.linspace(0, np.pi, 101)\n",
    "dx = x[1]-x[0]\n",
    "y = np.sin(x)"
   ]
  },
  {
   "cell_type": "code",
   "execution_count": 14,
   "metadata": {},
   "outputs": [],
   "source": [
    "def SimpsonsIntegrateData(y, dx):\n",
    "    area = 0\n",
    "    i = 0\n",
    "    N = len(y)\n",
    "    \n",
    "    while (2*i < N - 2):\n",
    "        area += dx/6*(y[2*i] + 4*y[2*i+1] + y[2*i+2])\n",
    "        i += 1\n",
    "    \n",
    "    return 2*area"
   ]
  },
  {
   "cell_type": "markdown",
   "metadata": {
    "scrolled": true
   },
   "source": [
    "Integrate the data using your function"
   ]
  },
  {
   "cell_type": "code",
   "execution_count": 15,
   "metadata": {},
   "outputs": [
    {
     "data": {
      "text/plain": [
       "2.000000010824504"
      ]
     },
     "execution_count": 15,
     "metadata": {},
     "output_type": "execute_result"
    }
   ],
   "source": [
    "SimpsonsIntegrateData(y, dx)"
   ]
  },
  {
   "cell_type": "markdown",
   "metadata": {},
   "source": [
    "Recall that Simpson's method needs an odd number of data points to work. If you use an even number you will get a bad result. If you check the convergence rate in this case you will see it is not what is expected. Checking the convergence rate is an important test of an integration code."
   ]
  },
  {
   "cell_type": "markdown",
   "metadata": {},
   "source": [
    "# Question 6\n",
    "\n",
    "Evaluate the following integral using both Simpsons rule and an RK4 ODE method\n",
    "\n",
    "$$ \\int_0^5 \\sinh(x) (x-5)\\, dx $$\n",
    "\n",
    "Compare the results of the two methods and take sufficient strips/small enough step sizes to ensure the results agree to a relative accuracy of 1e-6."
   ]
  },
  {
   "cell_type": "code",
   "execution_count": 16,
   "metadata": {},
   "outputs": [
    {
     "name": "stdout",
     "output_type": "stream",
     "text": [
      "Simpsons rule  -69.2032100839051\n",
      "RK4 ODE method  -69.20321008390512\n"
     ]
    }
   ],
   "source": [
    "def o(x,y=0):\n",
    "    return np.sinh(x)*(x-5)\n",
    "\n",
    "def RK4(f, a, b, y0, imax):\n",
    "    xi = a\n",
    "    yi = y0\n",
    "    \n",
    "    dx = (b-a)/imax\n",
    "       \n",
    "    i = 0\n",
    "    while i < imax:\n",
    "        k1 = dx*f(xi,yi)\n",
    "        k2 = dx*f(xi + 0.5*dx, yi + 0.5*k1)\n",
    "        k3 = dx*f(xi + 0.5*dx, yi + 0.5*k2)\n",
    "        k4 = dx*f(xi + dx, yi + k3)\n",
    "        \n",
    "        yi = yi + 1/6*(k1 + 2*k2 + 2*k3 + k4)\n",
    "        \n",
    "        xi += dx\n",
    "        i  += 1\n",
    "    return yi\n",
    "\n",
    "print(\"Simpsons rule \", SimpsonsIntegrate(o,0,5,100))\n",
    "print(\"RK4 ODE method \", RK4(o,0,5,0,100))"
   ]
  }
 ],
 "metadata": {
  "kernelspec": {
   "display_name": "Python 3",
   "language": "python",
   "name": "python3"
  },
  "language_info": {
   "codemirror_mode": {
    "name": "ipython",
    "version": 3
   },
   "file_extension": ".py",
   "mimetype": "text/x-python",
   "name": "python",
   "nbconvert_exporter": "python",
   "pygments_lexer": "ipython3",
   "version": "3.7.1"
  }
 },
 "nbformat": 4,
 "nbformat_minor": 2
}
