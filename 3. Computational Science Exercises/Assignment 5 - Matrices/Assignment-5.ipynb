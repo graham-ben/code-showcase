{
 "cells": [
  {
   "cell_type": "markdown",
   "metadata": {},
   "source": [
    "#  Assignment 5\n",
    "\n",
    "This assignment covers material on matrices, norms, condition numbers and eigensystems. The assignment is due by 5pm on Friday the 17th of April.\n",
    "\n",
    "The breakdown of the marks is as follows:\n",
    "\n",
    "Question 0 - [1 mark]  \n",
    "Question 1 - [7 marks]  \n",
    "Questino 2 - [6 marks]  \n",
    "Question 3 - [7 marks]  \n",
    "Question 4 - [9 marks]  "
   ]
  },
  {
   "cell_type": "markdown",
   "metadata": {},
   "source": [
    "# Question 0\n",
    "\n",
    "You should have saved this notebook to your ACM20030-Assignments folder. Now:\n",
    "- commit the notebook to your local repository\n",
    "- push the changes to the GitHub"
   ]
  },
  {
   "cell_type": "code",
   "execution_count": 1,
   "metadata": {},
   "outputs": [],
   "source": [
    "import numpy as np\n",
    "from numpy import linalg as la\n",
    "np.set_printoptions(linewidth=200)  # This stops line wrapping of larger matrices"
   ]
  },
  {
   "cell_type": "markdown",
   "metadata": {},
   "source": [
    "# Question 1 - practice manipulating arrays\n",
    "\n",
    "This questions asks you write a few functions for manipulating arrays of data"
   ]
  },
  {
   "cell_type": "markdown",
   "metadata": {},
   "source": [
    "## Q1 a\n",
    "\n",
    "Write a function that checks if a given $n\\times n$ matrix is symmetric. Use only loops and `.shape` function from numpy (do not use any other special numpy functions)."
   ]
  },
  {
   "cell_type": "code",
   "execution_count": 2,
   "metadata": {},
   "outputs": [],
   "source": [
    "def SymmetryCheck(M):\n",
    "    N = np.shape(M)[0]\n",
    "    #print(N) for debugging\n",
    "    for i in range(N):\n",
    "        for j in range(N):\n",
    "            if M[i][j] == M[j][i]:\n",
    "                continue\n",
    "            else:\n",
    "                return \"false\"\n",
    "    return \"true\""
   ]
  },
  {
   "cell_type": "markdown",
   "metadata": {},
   "source": [
    "Test your function on the two matrices below"
   ]
  },
  {
   "cell_type": "code",
   "execution_count": 3,
   "metadata": {},
   "outputs": [],
   "source": [
    "A = np.random.rand(5,5)\n",
    "SymMatrix = (A + A.T)/2"
   ]
  },
  {
   "cell_type": "code",
   "execution_count": 4,
   "metadata": {},
   "outputs": [
    {
     "name": "stdout",
     "output_type": "stream",
     "text": [
      "Matrix A is symmetric: false\n",
      "Matrix SymMatrix is symmetric: true\n"
     ]
    }
   ],
   "source": [
    "print(\"Matrix A is symmetric:\",SymmetryCheck(A))\n",
    "print(\"Matrix SymMatrix is symmetric:\",SymmetryCheck(SymMatrix))"
   ]
  },
  {
   "cell_type": "markdown",
   "metadata": {},
   "source": [
    "## Q1 b\n",
    "\n",
    "Write a function to transpose a general $n\\times n$ matrix. Do this by writing loops and not using any special functions like `np.transpose()`, `A.T`, or any functions from any other library."
   ]
  },
  {
   "cell_type": "code",
   "execution_count": 5,
   "metadata": {},
   "outputs": [],
   "source": [
    "def MatrixTranspose(M):\n",
    "    N = np.shape(M)[0]\n",
    "    B = np.zeros(np.shape(M))\n",
    "    for i in range(N):\n",
    "        for j in range(N):\n",
    "            B[i][j] = M[j][i]\n",
    "    return B"
   ]
  },
  {
   "cell_type": "markdown",
   "metadata": {},
   "source": [
    "Check your code by transposing the below random matrix and checking that $A^T \\neq A$ and $(A^T)^T - A = 0$"
   ]
  },
  {
   "cell_type": "code",
   "execution_count": 6,
   "metadata": {
    "scrolled": false
   },
   "outputs": [
    {
     "name": "stdout",
     "output_type": "stream",
     "text": [
      "A: [[0.44879926 0.33095921 0.22595027 0.78445654 0.10422976 0.71775217]\n",
      " [0.92246124 0.59020179 0.37057843 0.75951268 0.44931295 0.22685043]\n",
      " [0.75243854 0.14546183 0.11928302 0.15682113 0.51262346 0.93382475]\n",
      " [0.6532511  0.24962423 0.04796771 0.28961585 0.32334051 0.7655543 ]\n",
      " [0.0305599  0.95814489 0.35491982 0.5053979  0.87328427 0.41653742]\n",
      " [0.41692498 0.08693376 0.68599709 0.93240081 0.34575596 0.80543461]]\n",
      "A transposed: [[0.44879926 0.92246124 0.75243854 0.6532511  0.0305599  0.41692498]\n",
      " [0.33095921 0.59020179 0.14546183 0.24962423 0.95814489 0.08693376]\n",
      " [0.22595027 0.37057843 0.11928302 0.04796771 0.35491982 0.68599709]\n",
      " [0.78445654 0.75951268 0.15682113 0.28961585 0.5053979  0.93240081]\n",
      " [0.10422976 0.44931295 0.51262346 0.32334051 0.87328427 0.34575596]\n",
      " [0.71775217 0.22685043 0.93382475 0.7655543  0.41653742 0.80543461]]\n",
      "The matrix A is symmetric: false\n",
      "Therefore the matrix A is not equal to its transpose.\n",
      "[[0. 0. 0. 0. 0. 0.]\n",
      " [0. 0. 0. 0. 0. 0.]\n",
      " [0. 0. 0. 0. 0. 0.]\n",
      " [0. 0. 0. 0. 0. 0.]\n",
      " [0. 0. 0. 0. 0. 0.]\n",
      " [0. 0. 0. 0. 0. 0.]]\n",
      "As expected\n"
     ]
    }
   ],
   "source": [
    "A = np.random.rand(6,6)\n",
    "print(\"A:\",A)\n",
    "\n",
    "# Transposing the matrix A\n",
    "B = MatrixTranspose(A)\n",
    "print(\"A transposed:\",B)\n",
    "\n",
    "# Checking if A is symmetric\n",
    "print(\"The matrix A is symmetric:\",SymmetryCheck(A))\n",
    "print(\"Therefore the matrix A is not equal to its transpose.\")\n",
    "\n",
    "# Transposing the transpose of the matrix A and checking that it equals A\n",
    "C = MatrixTranspose(B)\n",
    "print(C - A)\n",
    "print(\"As expected\")"
   ]
  },
  {
   "cell_type": "markdown",
   "metadata": {},
   "source": [
    "## Q1c\n",
    "\n",
    "Write a function that finds the maximum entry in a matrix (where the matrix does not need to be square). Do this by writing loops and not using any special functions like `np.max` or any functions from any other library."
   ]
  },
  {
   "cell_type": "code",
   "execution_count": 7,
   "metadata": {},
   "outputs": [],
   "source": [
    "def maxEntry(M):\n",
    "    X,Y = np.shape(M)\n",
    "    # Starting comparisons with the first entry in the matrix in case the matrix contains large negative numbers exclusively\n",
    "    runningmax = M[0][0]\n",
    "    #print(runningmax) for debugging\n",
    "    for i in range(X):\n",
    "        for j in range(Y):\n",
    "            # if the entry being compared is greater than the previously largest found value, set it as the largest found value\n",
    "            if M[i][j] > runningmax:\n",
    "                runningmax = M[i][j]\n",
    "    return runningmax"
   ]
  },
  {
   "cell_type": "markdown",
   "metadata": {},
   "source": [
    "Check your result by comparing to `np.max(A)` for the below random matrix"
   ]
  },
  {
   "cell_type": "code",
   "execution_count": 8,
   "metadata": {},
   "outputs": [
    {
     "name": "stdout",
     "output_type": "stream",
     "text": [
      "A: [[0.62853668 0.80321012 0.11310259 0.01535611 0.46947107]\n",
      " [0.74365972 0.79296431 0.01751109 0.0977682  0.31444005]\n",
      " [0.31701993 0.59756776 0.56061271 0.27173668 0.37217616]\n",
      " [0.262758   0.26563474 0.43109616 0.96992313 0.75393922]]\n",
      "The max value in the matrix A using the written function: 0.9699231269232466\n",
      "The max value in the matrix A using np.max(): 0.9699231269232466\n"
     ]
    }
   ],
   "source": [
    "A = np.random.rand(4,5)\n",
    "print(\"A:\",A)\n",
    "print(\"The max value in the matrix A using the written function:\",maxEntry(A))\n",
    "print(\"The max value in the matrix A using np.max():\",np.max(A))"
   ]
  },
  {
   "cell_type": "markdown",
   "metadata": {},
   "source": [
    "# Question 2:  matrix norms\n",
    "\n",
    "In the lectures we focused on the $L^2$-norm. We also briefly mentioned the $L^1$ and $L^\\infty$ norm. Let's look at calculating those as well for a general $m\\times n$ matrix."
   ]
  },
  {
   "cell_type": "markdown",
   "metadata": {},
   "source": [
    "# Q2a\n",
    "\n",
    "The $L^1$ norm is given by\n",
    "\n",
    "$$ \\lVert A \\rVert_1 = \\max_j \\sum^m_{i=1} |a_{ij}| $$\n",
    "\n",
    "i.e., it is the max of the sums of the absolute values of each column. Write a function that computes the $L^1$-norm using only loops. The function should use no special numpy functions except `np.abs()`."
   ]
  },
  {
   "cell_type": "code",
   "execution_count": 9,
   "metadata": {},
   "outputs": [],
   "source": [
    "def L1(A):\n",
    "    X,Y = np.shape(A)\n",
    "    # Defining the initial max value to be 0 since every sum of the absolute values of a column must be greater than or equal to 0\n",
    "    columnmax = 0\n",
    "    for j in range(Y):\n",
    "        columntotal = 0\n",
    "        for i in range(X):\n",
    "            columntotal += np.abs(A[i][j])\n",
    "            #print(\"cm\",columnmax,\"ct\",columntotal,\"i\",i,\"j\",j) for debugging\n",
    "        if columntotal > columnmax:\n",
    "            columnmax = columntotal\n",
    "    return columnmax"
   ]
  },
  {
   "cell_type": "markdown",
   "metadata": {},
   "source": [
    "Check your result against NumPy's `la.norm(A,1)` function for the following random matrix"
   ]
  },
  {
   "cell_type": "code",
   "execution_count": 10,
   "metadata": {},
   "outputs": [
    {
     "name": "stdout",
     "output_type": "stream",
     "text": [
      "L¹ norm using written function = 2.2820816619469393\n",
      "L¹ norm using la.norm(A,1) = 2.2820816619469393\n"
     ]
    }
   ],
   "source": [
    "A = np.random.rand(3,4)\n",
    "print(\"L\\N{SUPERSCRIPT ONE} norm using written function =\",L1(A))\n",
    "print(\"L\\N{SUPERSCRIPT ONE} norm using la.norm(A,1) =\",la.norm(A,1))"
   ]
  },
  {
   "cell_type": "markdown",
   "metadata": {},
   "source": [
    "## Q2b\n",
    "\n",
    "The $L^\\infty$ norm is given by \n",
    "\n",
    "$$\\lVert A \\rVert_\\infty = \\max_i \\sum_{j=1}^n |a_{ij}|$$\n",
    "\n",
    "i.e., it is the max of the sums of the absolute values of each row. Write a function that computes the $L^\\infty$-norm using only loops and no special numpy functions."
   ]
  },
  {
   "cell_type": "code",
   "execution_count": 11,
   "metadata": {},
   "outputs": [],
   "source": [
    "def Linf(A):\n",
    "    X,Y = np.shape(A)\n",
    "    # Again, defining the initial max value to be 0 since every sum of the absolute values of a row must be greater than or equal to 0\n",
    "    rowmax = 0\n",
    "    for i in range(X):\n",
    "        rowtotal = 0\n",
    "        for j in range(Y):\n",
    "            rowtotal += np.abs(A[i][j])\n",
    "            #print(\"cm\",columnmax,\"ct\",columntotal,\"i\",i,\"j\",j) for debugging\n",
    "        if rowtotal > rowmax:\n",
    "            rowmax = rowtotal\n",
    "    return rowmax"
   ]
  },
  {
   "cell_type": "markdown",
   "metadata": {},
   "source": [
    "Check your result against NumPy's `la.norm(A,np.inf)` function for the following random matrix"
   ]
  },
  {
   "cell_type": "code",
   "execution_count": 12,
   "metadata": {},
   "outputs": [
    {
     "name": "stdout",
     "output_type": "stream",
     "text": [
      "L^inf norm using written function = 2.3139212290015867\n",
      "L^inf norm using la.norm(A,np.inf) = 2.3139212290015867\n"
     ]
    }
   ],
   "source": [
    "A = np.random.rand(3,4)\n",
    "print(\"L^inf norm using written function =\",Linf(A))\n",
    "print(\"L^inf norm using la.norm(A,np.inf) =\",la.norm(A,np.inf))"
   ]
  },
  {
   "cell_type": "markdown",
   "metadata": {},
   "source": [
    "# Question 3: ill-conditions systems of equations\n",
    "\n",
    "In this question you can use any of NumPy's functions.\n",
    "\n",
    "## Q3a\n",
    "\n",
    "Which of the following three matrices, $A1, A2, A3$, are ill-conditioned. State the reason for your conclusion."
   ]
  },
  {
   "cell_type": "code",
   "execution_count": 13,
   "metadata": {},
   "outputs": [],
   "source": [
    "A1 = np.array([[0.988746460106, 0.351486109477, 0.024911477532, 0.384039749683],\n",
    "       [0.282104657306, 0.239884151775, 0.36170151991 , 0.903082266861],\n",
    "       [0.59333290915 , 0.637178863968, 0.241229214635, 0.685595037901],\n",
    "       [0.013591747828, 0.917926970364, 0.458689093885, 0.157821121254]])\n",
    "\n",
    "A2 = np.array([[ 2.852416473483e-01,  3.803483118694e-01,  2.697704226632e-01,  6.810611849029e-01],\n",
    "       [ 6.622827828376e-01,  6.447943415836e-01,  4.387842058829e-01,  1.530575702376e+00],\n",
    "       [ 3.672130860703e-01,  8.309522079704e-01,  9.975487474007e-01,  5.678296337101e-01],\n",
    "       [ 4.036490000599e-01,  6.865978225967e-06,  8.788095913773e-01, -7.150472427928e-02]])\n",
    "\n",
    "A3 = np.array([[0.131923621844, 0.245316154195, 0.732362341613, 0.957047891764],\n",
    "       [0.91290446184 , 0.512312007959, 0.391938831444, 0.092509684772],\n",
    "       [0.648708523652, 0.608576675797, 0.576773587276, 0.065385122929],\n",
    "       [0.502955480393, 0.084082960221, 0.659487390444, 0.662958739412]])"
   ]
  },
  {
   "cell_type": "code",
   "execution_count": 14,
   "metadata": {},
   "outputs": [
    {
     "name": "stdout",
     "output_type": "stream",
     "text": [
      "Condition number for A1: 21.552466488381846\n",
      "Condition number for A2: 13334936994.070848\n",
      "Condition number for A3: 15.12244969941062\n",
      "Given the large condition number of the matrix A2 (how sensitive the matrix is to changes),\n",
      " we can conclude that A2 is ill-conditioned.\n"
     ]
    }
   ],
   "source": [
    "print(\"Condition number for A1:\",la.cond(A1,2))\n",
    "print(\"Condition number for A2:\",la.cond(A2,2))\n",
    "print(\"Condition number for A3:\",la.cond(A3,2))\n",
    "\n",
    "print(\"Given the large condition number of the matrix A2 (how sensitive the matrix is to changes),\\n we can conclude that A2 is ill-conditioned.\")"
   ]
  },
  {
   "cell_type": "markdown",
   "metadata": {},
   "source": [
    "# Q3b\n",
    "\n",
    "With $b = [1,2,3,4]$ and $\\delta b = [0.1,0,0,0]$ for $A2$ and $A3$ calculate the percentage change in $x$ due to a small change in $b$, i.e., calculate \n",
    "\n",
    "$$100\\times\\frac{\\lVert \\delta x_i\\rVert_2}{\\lVert x_i \\rVert_2}\\quad\\text{and}\\quad 100\\times\\frac{\\lVert \\delta b\\rVert_2}{\\lVert b \\rVert_2}$$\n",
    "\n",
    "where $(x_i+\\delta x_i)  = A_i^{-1}(b+\\delta b)$ and $i\\in\\{2,3\\}$."
   ]
  },
  {
   "cell_type": "code",
   "execution_count": 15,
   "metadata": {},
   "outputs": [
    {
     "name": "stdout",
     "output_type": "stream",
     "text": [
      "Percentage change in A2 =  512.6206098890646 %\n",
      "Percentage change in A3 =  2.173811243421917 %\n",
      "Percentage change in b (for both A2 and A3) =  1.8257418583505536 %\n"
     ]
    }
   ],
   "source": [
    "#Definind functions for dx, x\n",
    "def dx(A): \n",
    "    return la.inv(A)@([1.1,2,3,4])-la.inv(A)@([1,2,3,4])\n",
    "\n",
    "def x(A):\n",
    "    return la.inv(A)@([1,2,3,4])\n",
    "\n",
    "# The percentage change in x for A2:\n",
    "\n",
    "a2 = 100*(la.norm(dx(A2),2)/la.norm(x(A2),2))\n",
    "\n",
    "# The percentage change in x for A3:\n",
    "\n",
    "a3 = 100*(la.norm(dx(A3),2)/la.norm(x(A3),2))\n",
    "\n",
    "# For both A2 and A3, the value of the percentage change in b is the same:\n",
    "\n",
    "b = np.array([1,2,3,4])\n",
    "deltab = np.array([0.1,0,0,0])\n",
    "\n",
    "print(\"Percentage change in A2 = \", a2, \"%\")\n",
    "print(\"Percentage change in A3 = \", a3, \"%\")\n",
    "print(\"Percentage change in b (for both A2 and A3) = \", 100*(la.norm(deltab,2)/la.norm(b,2)), \"%\")"
   ]
  },
  {
   "cell_type": "markdown",
   "metadata": {},
   "source": [
    "Which system of equations is more sensitive to small changes in $b$? How could you have guessed this from the answer to the Q3a?"
   ]
  },
  {
   "cell_type": "code",
   "execution_count": 16,
   "metadata": {},
   "outputs": [],
   "source": [
    "# A2 is more sensitive to small changes in b. This confirms what we assumed from the condition number of A2 in Q3a."
   ]
  },
  {
   "cell_type": "markdown",
   "metadata": {},
   "source": [
    "# Question 4: eigensystems\n",
    "\n",
    "In this question we look at finding eigenvalues and eigenvectors\n",
    "\n",
    "## Q4a\n",
    "\n",
    "You may use any of NumPy's functions for this sub-question.\n",
    "\n",
    "Find the eigenvalues and eigenvectors for the below matrix. Print out the eigenvalues sorted by descending value and explicitly show that eigenvalues/eigenvector pairs satisfy $Ax = \\lambda x$."
   ]
  },
  {
   "cell_type": "code",
   "execution_count": 17,
   "metadata": {},
   "outputs": [],
   "source": [
    "A = np.array([[1,4,5],[4,5,4],[6,7,9]])"
   ]
  },
  {
   "cell_type": "code",
   "execution_count": 18,
   "metadata": {},
   "outputs": [
    {
     "name": "stdout",
     "output_type": "stream",
     "text": [
      "Eigenvalues sorted by descending value:\n",
      " [15.78569318  1.26595327 -2.05164645]\n",
      "Corresponding eigenvectors in column form:\n",
      " [[-0.39252008  0.09818766 -0.89589878]\n",
      " [-0.44424151 -0.77454142  0.36255198]\n",
      " [-0.80534308  0.6248558   0.25675168]]\n",
      "Explicitly showing that the eigenvalues/eigenvector pairs satisfy Axᵢ = λx:\n",
      "Ax₁ = [ -6.1962015   -7.01266016 -12.71289871]\n",
      "λx₁ = [ -6.1962015   -7.01266016 -12.71289871]\n",
      "Ax₂ = [ 0.12430099 -0.98053324  0.79103825]\n",
      "λx₂ = [ 0.12430099 -0.98053324  0.79103825]\n",
      "Ax₃ = [ 1.83806756 -0.74382849 -0.52676368]\n",
      "λx₃ = [ 1.83806756 -0.74382849 -0.52676368]\n"
     ]
    }
   ],
   "source": [
    "# Calculating the eigenvalues and corresponding eigenvectors using linalg from numpy\n",
    "eigen = la.eig(A)\n",
    "#print(eigen)\n",
    "\n",
    "evalues = eigen[0]\n",
    "evectors = eigen[1]\n",
    "\n",
    "# Calculating an index that would sort the arrays by descending eigenvalue (and sort their respective eigenvectors into this new order)\n",
    "sortorder = np.argsort(evalues)[::-1]\n",
    "\n",
    "# Sorting both arrays\n",
    "s_values = evalues[sortorder]\n",
    "s_vectors = evectors[:,sortorder]\n",
    "\n",
    "print(\"Eigenvalues sorted by descending value:\\n\", s_values)\n",
    "print(\"Corresponding eigenvectors in column form:\\n\",s_vectors)\n",
    "\n",
    "print(\"Explicitly showing that the eigenvalues/eigenvector pairs satisfy Ax\\N{LATIN SUBSCRIPT SMALL LETTER I} = \\N{GREEK SMALL LETTER LAMDA}x:\")\n",
    "\n",
    "# Pair 1\n",
    "\n",
    "print(\"Ax\\N{SUBSCRIPT ONE} =\", np.dot(A,np.transpose(s_vectors[:,0])))\n",
    "print(\"\\N{GREEK SMALL LETTER LAMDA}x\\N{SUBSCRIPT ONE} =\",s_values[0]*s_vectors[:,0])\n",
    "\n",
    "# Pair 2\n",
    "\n",
    "print(\"Ax\\N{SUBSCRIPT TWO} =\", np.dot(A,np.transpose(s_vectors[:,1])))\n",
    "print(\"\\N{GREEK SMALL LETTER LAMDA}x\\N{SUBSCRIPT TWO} =\",s_values[1]*s_vectors[:,1])\n",
    "\n",
    "\n",
    "# Pair 3\n",
    "\n",
    "print(\"Ax\\N{SUBSCRIPT THREE} =\", np.dot(A,np.transpose(s_vectors[:,2])))\n",
    "print(\"\\N{GREEK SMALL LETTER LAMDA}x\\N{SUBSCRIPT THREE} =\",s_values[2]*s_vectors[:,2])\n"
   ]
  },
  {
   "cell_type": "markdown",
   "metadata": {},
   "source": [
    "# Q4b\n",
    "\n",
    "Without using NumPy's `la.eig()` (or similar functions), find the 4 eigenvalues and eigenvectors of the following matrix. Hint: Use the power method for the max eigenvalue (given below in `MaxEigenvalue`), the power method applied to the inverse for the smallest eigenvalue, and apply Hotelling's deflation twice to find the second and third eigenvalues/eigenvectors."
   ]
  },
  {
   "cell_type": "code",
   "execution_count": 27,
   "metadata": {},
   "outputs": [],
   "source": [
    "A = np.array([[1.935052353404, 0.887037260957, 1.534235483277, 1.370691224125],\n",
    "       [0.887037260957, 0.81275989158 , 0.610238622918, 0.999150521052],\n",
    "       [1.534235483277, 0.610238622918, 1.562260333538, 1.007843062517],\n",
    "       [1.370691224125, 0.999150521052, 1.007843062517, 1.813258814483]])"
   ]
  },
  {
   "cell_type": "code",
   "execution_count": 28,
   "metadata": {},
   "outputs": [],
   "source": [
    "def MaxEigenvalue(A, err):\n",
    "    (m,n) = A.shape\n",
    "    if(m != n):\n",
    "        print(\"Matrix must be square\")\n",
    "        return\n",
    "    x = np.random.rand(m)\n",
    "    \n",
    "    lam = 0.1\n",
    "    lamprev = 1\n",
    "    while np.abs(1-lam/lamprev) > err:\n",
    "        p = np.dot(A,x)\n",
    "        lamprev = lam\n",
    "        lam = np.max(p)\n",
    "        x = p/lam\n",
    "        \n",
    "    x = x/la.norm(x)\n",
    "    return (lam,x)"
   ]
  },
  {
   "cell_type": "code",
   "execution_count": 29,
   "metadata": {},
   "outputs": [
    {
     "name": "stdout",
     "output_type": "stream",
     "text": [
      "Eigenvalues with their corresponding eigenvectors:\n",
      " (4.91480442349976, array([0.59947641, 0.33318806, 0.49528112, 0.53320761])) \n",
      " (0.8505815318667769, array([ 0.30724064, -0.3894447 ,  0.58292464, -0.64353313])) \n",
      " (0.21512836395732082, array([-0.3811686 , -0.67389895,  0.34000478,  0.53382343])) \n",
      " (0.1428170736816672, array([-0.63319959,  0.53214542,  0.54707607, -0.12879172]))\n"
     ]
    }
   ],
   "source": [
    "# Using the power method for the max eigenvalue/eigenvector\n",
    "maxEigen = MaxEigenvalue(A,1e-14)\n",
    "l1 = maxEigen[0]\n",
    "e1 = maxEigen[1]\n",
    "\n",
    "# Using Hotelling's deflation twice to find the second and third eigenvalues/eigenvectors\n",
    "B = A -l1*np.outer(e1,e1)\n",
    "\n",
    "lsecond  = MaxEigenvalue(B, 1e-12)\n",
    "l2 = lsecond[0]\n",
    "e2 = lsecond[1]\n",
    "\n",
    "C = B -l2*np.outer(e2,e2)\n",
    "\n",
    "lthird = MaxEigenvalue(C, 1e-12)\n",
    "l3 = lthird[0]\n",
    "e3 = lthird[1]\n",
    "\n",
    "\n",
    "# Using the power method applied to the inverse for the smallest eigenvalue/eigenvector\n",
    "pl4 = 1/(MaxEigenvalue(la.inv(A),1e-14)[0])\n",
    "pe4 = MaxEigenvalue(la.inv(A),1e-14)[1]\n",
    "minEigen = (pl4,pe4)\n",
    "\n",
    "print(\"Eigenvalues with their corresponding eigenvectors:\\n\",maxEigen,\"\\n\",lsecond,\"\\n\",lthird,\"\\n\",minEigen)"
   ]
  },
  {
   "cell_type": "markdown",
   "metadata": {},
   "source": [
    "Check your answers against Numpy's results from `la.eig(A)`"
   ]
  },
  {
   "cell_type": "code",
   "execution_count": 30,
   "metadata": {},
   "outputs": [
    {
     "data": {
      "text/plain": [
       "(array([4.91480442, 0.85058153, 0.14281707, 0.21512836]),\n",
       " array([[ 0.59947641,  0.30724064, -0.63319959, -0.3811686 ],\n",
       "        [ 0.33318806, -0.3894447 ,  0.53214542, -0.67389895],\n",
       "        [ 0.49528112,  0.58292464,  0.54707607,  0.34000478],\n",
       "        [ 0.53320761, -0.64353313, -0.12879172,  0.53382343]]))"
      ]
     },
     "execution_count": 30,
     "metadata": {},
     "output_type": "execute_result"
    }
   ],
   "source": [
    "la.eig(A)\n",
    "# Which equals the output from the cell above (with the eigenvectors in column form)"
   ]
  }
 ],
 "metadata": {
  "kernelspec": {
   "display_name": "Python 3",
   "language": "python",
   "name": "python3"
  },
  "language_info": {
   "codemirror_mode": {
    "name": "ipython",
    "version": 3
   },
   "file_extension": ".py",
   "mimetype": "text/x-python",
   "name": "python",
   "nbconvert_exporter": "python",
   "pygments_lexer": "ipython3",
   "version": "3.7.1"
  }
 },
 "nbformat": 4,
 "nbformat_minor": 2
}
