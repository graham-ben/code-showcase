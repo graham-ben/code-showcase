{
 "cells": [
  {
   "cell_type": "markdown",
   "metadata": {},
   "source": [
    "# Assignment 2\n",
    "This is due by 5pm on Friday 21st February. The mark breakdown is:\n",
    "\n",
    "- Q0 [1 marks]\n",
    "- Q1 [10 marks]\n",
    "- Q2 [10 marks]\n",
    "- Q3 [9 marks]\n",
    "\n",
    "It is adviseable that you tidy up your notebook before submitting the final version. Also, remember to add comments to your code."
   ]
  },
  {
   "cell_type": "markdown",
   "metadata": {},
   "source": [
    "# Question 0\n",
    "\n",
    "You should have saved this notebook to your ACM20030-Assignments folder. Now:\n",
    "- commit the notebook to your local repository\n",
    "- push the changes to the GitHub"
   ]
  },
  {
   "cell_type": "code",
   "execution_count": 1,
   "metadata": {},
   "outputs": [],
   "source": [
    "import numpy as np\n",
    "import matplotlib.pyplot as plt\n",
    "\n",
    "# The below commands make the font and image size bigger\n",
    "plt.rcParams.update({'font.size': 22})\n",
    "plt.rcParams[\"figure.figsize\"] = (15,10)"
   ]
  },
  {
   "cell_type": "markdown",
   "metadata": {},
   "source": [
    "# Question 1: Bisection method"
   ]
  },
  {
   "cell_type": "markdown",
   "metadata": {},
   "source": [
    "### Q. 1a\n",
    "Define a function for the quintic $f(x) = x^5+12 x^4-15 x^3-386 x^2-180 x+1800$ and plot it in the range $x=-11\\dots6$"
   ]
  },
  {
   "cell_type": "code",
   "execution_count": 2,
   "metadata": {},
   "outputs": [
    {
     "data": {
      "image/png": "[encoded data removed]",
      "text/plain": [
       "<Figure size 432x288 with 1 Axes>"
      ]
     },
     "metadata": {
      "needs_background": "light"
     },
     "output_type": "display_data"
    }
   ],
   "source": [
    "# Defining the quintic function\n",
    "def f(x):\n",
    "    result = x**5 + 12*x**4 - 15*x**3 - 386*x**2 -180*x + 1800\n",
    "    return result\n",
    "\n",
    "# Setting up a vector for the x range -11 to 6\n",
    "x = np.arange(-11,6.1,0.1)\n",
    "y = f(x)\n",
    "\n",
    "# Plotting the function\n",
    "plt.plot(x, y)\n",
    "plt.xlabel(\"x\")\n",
    "plt.ylabel(\"f(x)\")\n",
    "plt.grid()\n",
    "plt.show()"
   ]
  },
  {
   "cell_type": "markdown",
   "metadata": {},
   "source": [
    "### Q. 1b\n",
    "Using the plot, pick values of $a$ and $b$ such that $f(a) < 0$ and $f(b) > 0$ and the function has a **single** root in the region $(a,b)$. Assign variables called a and b to these values and print the values of $f(a)$ and $f(b)$."
   ]
  },
  {
   "cell_type": "code",
   "execution_count": 3,
   "metadata": {},
   "outputs": [
    {
     "name": "stdout",
     "output_type": "stream",
     "text": [
      "f(a) = -3269.53125\n",
      "f(b) = 2600\n"
     ]
    }
   ],
   "source": [
    "#Assigning values to variables 'a' and 'b'\n",
    "a = -10.5\n",
    "b = -8\n",
    "print(\"f(a) = \" + str(f(a)))\n",
    "print(\"f(b) = \" + str(f(b)))"
   ]
  },
  {
   "cell_type": "markdown",
   "metadata": {},
   "source": [
    "Use the following FindRootBisection method to find the root to within a precision of $10^{-12}$"
   ]
  },
  {
   "cell_type": "code",
   "execution_count": 4,
   "metadata": {},
   "outputs": [],
   "source": [
    "# This function only works when a < b and f(a) < 0 < f(b)\n",
    "def FindRootBisection(f, a, b, tol, printSteps=False):\n",
    "    left = a\n",
    "    right = b\n",
    "    while right-left > tol:\n",
    "        midpoint = (left+right)/2\n",
    "        if(f(midpoint) < 0):\n",
    "            left = midpoint\n",
    "        else:\n",
    "            right = midpoint\n",
    "        if(printSteps == True):\n",
    "            print(midpoint)\n",
    "    return midpoint"
   ]
  },
  {
   "cell_type": "code",
   "execution_count": 24,
   "metadata": {},
   "outputs": [
    {
     "name": "stdout",
     "output_type": "stream",
     "text": [
      "-9.25\n",
      "-9.875\n",
      "-10.1875\n",
      "-10.03125\n",
      "-9.953125\n",
      "-9.9921875\n",
      "-10.01171875\n",
      "-10.001953125\n",
      "-9.9970703125\n",
      "-9.99951171875\n",
      "-10.000732421875\n",
      "-10.0001220703125\n",
      "-9.99981689453125\n",
      "-9.999969482421875\n",
      "-10.000045776367188\n",
      "-10.000007629394531\n",
      "-9.999988555908203\n",
      "-9.999998092651367\n",
      "-10.00000286102295\n",
      "-10.000000476837158\n",
      "-9.999999284744263\n",
      "-9.99999988079071\n",
      "-10.000000178813934\n",
      "-10.000000029802322\n",
      "-9.999999955296516\n",
      "-9.99999999254942\n",
      "-10.000000011175871\n",
      "-10.000000001862645\n",
      "-9.999999997206032\n",
      "-9.999999999534339\n",
      "-10.000000000698492\n",
      "-10.000000000116415\n",
      "-9.999999999825377\n",
      "-9.999999999970896\n",
      "-10.000000000043656\n",
      "-10.000000000007276\n",
      "-9.999999999989086\n",
      "-9.999999999998181\n",
      "-10.000000000002728\n",
      "-10.000000000000455\n",
      "-9.999999999999318\n",
      "-9.999999999999886\n",
      "Root is -9.999999999999886\n"
     ]
    }
   ],
   "source": [
    "# Finding the root using the chosen values for 'a' and 'b' to a precision of 10^-12\n",
    "root = FindRootBisection(f, a, b, 10**-12, printSteps=True)\n",
    "print('Root is ' + str(root))"
   ]
  },
  {
   "cell_type": "markdown",
   "metadata": {},
   "source": [
    "### Q. 1c\n",
    "As the comment on the above FindRootBisection( ) function says it only works when $a<b$ and $f(a) < 0 < f(b)$. Create a new function that: \n",
    " - **also** works when $f(a) > 0 > f(b)$. \n",
    " - Checks that $\\text{sign}(f(a)) \\neq \\text{sign}(f(b))$. If not the function should return \"Cannot use bisection method as sign(f(a)) = sign(f(b)) \", where $a$ and $b$ have been replaced by their values\n",
    " \n",
    "Call your new function FindRootBisectionImproved( ).  \n",
    "Useful function: np.sign(x) will return sign(x)\n",
    "\n",
    "Check your new function by:\n",
    " - finding the root between $x = 2.5$ and $x=6$\n",
    " - attempting to find a root between $x=6$ and $x=8$ (there is no root in this region)"
   ]
  },
  {
   "cell_type": "code",
   "execution_count": 25,
   "metadata": {},
   "outputs": [],
   "source": [
    "def FindRootBisectionImproved(f, a, b, tol, printSteps=False):\n",
    "    if np.sign(f(a)) == np.sign(f(b)):\n",
    "        print(\"Cannot use bisection method as sign(f(\"+str(a)+\")) = sign(f(\"+str(b)+\"))\")\n",
    "        return None\n",
    "    # Fix: assigns the lesser variable of 'a' and 'b' to the 'left' variable and the greater to 'right' using an if-else statement\n",
    "    if a<b:\n",
    "        left = a\n",
    "        right = b\n",
    "    else:\n",
    "        left = b\n",
    "        right = a\n",
    "    # Logic below unchanged from above code\n",
    "    while right-left > tol:\n",
    "        midpoint = (left+right)/2\n",
    "        if(f(midpoint) < 0):\n",
    "            left = midpoint\n",
    "        else:\n",
    "            right = midpoint\n",
    "        if(printSteps == True):\n",
    "            print(midpoint)\n",
    "    return midpoint"
   ]
  },
  {
   "cell_type": "code",
   "execution_count": 26,
   "metadata": {},
   "outputs": [
    {
     "name": "stdout",
     "output_type": "stream",
     "text": [
      "4.25\n",
      "5.125\n",
      "4.6875\n",
      "4.90625\n",
      "5.015625\n",
      "4.9609375\n",
      "4.98828125\n",
      "5.001953125\n",
      "4.9951171875\n",
      "4.99853515625\n",
      "5.000244140625\n",
      "4.9993896484375\n",
      "4.99981689453125\n",
      "5.000030517578125\n",
      "4.9999237060546875\n",
      "4.999977111816406\n",
      "5.000003814697266\n",
      "4.999990463256836\n",
      "4.999997138977051\n",
      "5.000000476837158\n",
      "4.9999988079071045\n",
      "4.999999642372131\n",
      "5.000000059604645\n",
      "4.999999850988388\n",
      "4.999999955296516\n",
      "5.000000007450581\n",
      "4.9999999813735485\n",
      "4.9999999944120646\n",
      "5.000000000931323\n",
      "4.999999997671694\n",
      "4.999999999301508\n",
      "5.000000000116415\n",
      "4.999999999708962\n",
      "4.9999999999126885\n",
      "5.000000000014552\n",
      "4.99999999996362\n",
      "4.999999999989086\n",
      "5.000000000001819\n",
      "4.9999999999954525\n",
      "4.999999999998636\n",
      "5.000000000000227\n",
      "4.999999999999432\n",
      "Cannot use bisection method as sign(f(6)) = sign(f(8))\n"
     ]
    }
   ],
   "source": [
    "# Finding the root between x=2.5 and x=6\n",
    "FindRootBisectionImproved(f, 2.5, 6, 10**-12, printSteps=True)\n",
    "\n",
    "# Attempting to find the root between x=6 and x=8\n",
    "FindRootBisectionImproved(f, 6, 8, 10**-12, printSteps=True)"
   ]
  },
  {
   "cell_type": "markdown",
   "metadata": {},
   "source": [
    "**Commit this question to your git repository and push the changes to GitHub**"
   ]
  },
  {
   "cell_type": "markdown",
   "metadata": {},
   "source": [
    "## Question 2: Newton-Raphson method"
   ]
  },
  {
   "cell_type": "markdown",
   "metadata": {},
   "source": [
    "### Q. 2a\n",
    " - Define a function $p(x) = \\sinh^{-1} x$. Calculate its derivative and define it as $dp(x) = \\dots$\n",
    " - Plot the function between $x=-11$ and $x=6$. Label the plot axes and use a grid."
   ]
  },
  {
   "cell_type": "code",
   "execution_count": 8,
   "metadata": {},
   "outputs": [],
   "source": [
    "# Definition of p(x) function\n",
    "def p(x):\n",
    "    return np.arcsinh(x)\n",
    "# Definition of p'(x)\n",
    "def dp(x):\n",
    "    return 1/np.sqrt(1+x**2)"
   ]
  },
  {
   "cell_type": "code",
   "execution_count": 9,
   "metadata": {
    "scrolled": true
   },
   "outputs": [
    {
     "data": {
      "image/png": "[encoded data removed]",
      "text/plain": [
       "<Figure size 432x288 with 1 Axes>"
      ]
     },
     "metadata": {
      "needs_background": "light"
     },
     "output_type": "display_data"
    }
   ],
   "source": [
    "# Creating an array in the range -11 to 6\n",
    "x = np.arange(-11,6.1,0.1)\n",
    "y = p(x)\n",
    "\n",
    "# Plotting p(x) in the range -11 to 6\n",
    "plt.plot(x, y)\n",
    "plt.xlabel(\"x\")\n",
    "plt.ylabel(\"f(x)\")\n",
    "plt.grid()\n",
    "plt.title(\"f(x) vs x\")\n",
    "plt.show()"
   ]
  },
  {
   "cell_type": "markdown",
   "metadata": {},
   "source": [
    "### Q. 2b\n",
    " - Starting with a value near the root use the below Newton-Raphson code to find the root"
   ]
  },
  {
   "cell_type": "code",
   "execution_count": 10,
   "metadata": {},
   "outputs": [],
   "source": [
    "def FindRootNewtonRaphson(f, df, x0, tol, printSteps=False):\n",
    "    f0 = f(x0)\n",
    "    count = 1\n",
    "    while np.abs(f0) > tol and count < 20:\n",
    "        f0 = f(x0)\n",
    "        x0 = x0 - f0/df(x0)\n",
    "        count += 1\n",
    "        if(printSteps):\n",
    "            print(\"x_%d = %.14lf\" % (count, x0))\n",
    "    return x0"
   ]
  },
  {
   "cell_type": "code",
   "execution_count": 28,
   "metadata": {},
   "outputs": [
    {
     "name": "stdout",
     "output_type": "stream",
     "text": [
      "x_2 = -0.00033200756862\n",
      "x_3 = 0.00000000001220\n"
     ]
    },
    {
     "data": {
      "text/plain": [
       "1.2198956471712319e-11"
      ]
     },
     "execution_count": 28,
     "metadata": {},
     "output_type": "execute_result"
    }
   ],
   "source": [
    "# Finding the root starting near the root value (x=0.1)\n",
    "FindRootNewtonRaphson(p, dp, 0.1, 0.01, printSteps=True)\n",
    "# Hence the algebraic root is 0, as shown by the steps within the tolerance"
   ]
  },
  {
   "cell_type": "markdown",
   "metadata": {},
   "source": [
    "### Q. 2c\n",
    "As we discussed in the lectures, the Newton-Raphson method (usually) converges quadradically if an initial guess is given that is sufficiently close to the root. If the guess is too far from the root the method can diverge. In this question we will find the critical value between converging and diverging where the method oscilliates with period 2.\n",
    "\n",
    "If we define $F(x) = x - p(x)/p'(x)$, then a period-2 orbit will occur when $F(F(x)) = x$. In general this will be a complicated function so it might be very difficult to find the solution analytically. Instead, we can write this equation as $F(F(x)) - x = 0$, so the value of $x$ we want is the root.\n",
    "\n",
    "- Define a function F(x)\n",
    "- Define a function F2(x) which returns $F(F(x)) - x$\n",
    "- Plot F2(x) with labels and a grid"
   ]
  },
  {
   "cell_type": "code",
   "execution_count": 29,
   "metadata": {},
   "outputs": [
    {
     "data": {
      "image/png": "[encoded data removed]",
      "text/plain": [
       "<Figure size 432x288 with 1 Axes>"
      ]
     },
     "metadata": {
      "needs_background": "light"
     },
     "output_type": "display_data"
    }
   ],
   "source": [
    "# Defining F(x)\n",
    "def F(x):\n",
    "    result = x-p(x)/dp(x)\n",
    "    return result\n",
    "# Defining F2(x) = F(F(x)) - x\n",
    "def F2(x):\n",
    "    result = F(F(x))-x\n",
    "    return result\n",
    "\n",
    "# Creating an array in the range -11 to 6 to plot F2(x) against\n",
    "x = np.arange(-11,6.1,0.1)\n",
    "y = F2(x)\n",
    "\n",
    "# Plotting F2(x) with labels and a grid\n",
    "plt.plot(x, y)\n",
    "plt.xlabel(\"x\")\n",
    "plt.ylabel(\"F2(x)\")\n",
    "plt.grid()\n",
    "plt.title(\"F2(x) vs x\")\n",
    "plt.show()"
   ]
  },
  {
   "cell_type": "markdown",
   "metadata": {},
   "source": [
    "- We want to find a root with $x \\neq 0$. As we don't have easy access to the derivative of the function $F2(x)$ use the bisection method function from above to find a root of $F2(x)$ to a precision of $10^{-15}$. Use the plot from the previous part to bracket a root. **Assign** the vaue of the root of the variable 'x2' and also print(x2).\n",
    "- Use the Newton-Raphson method with the function $p(x)$ and the initial guess x2. Set the final argument to True to print out the steps in the method takes. You should see that they oscillate between two values and the algorithm does not converge."
   ]
  },
  {
   "cell_type": "code",
   "execution_count": 13,
   "metadata": {},
   "outputs": [
    {
     "name": "stdout",
     "output_type": "stream",
     "text": [
      "3.3198263863951487\n",
      "x_2 = -3.31982638639515\n",
      "x_3 = 3.31982638639515\n",
      "x_4 = -3.31982638639515\n",
      "x_5 = 3.31982638639515\n",
      "x_6 = -3.31982638639516\n",
      "x_7 = 3.31982638639517\n",
      "x_8 = -3.31982638639519\n",
      "x_9 = 3.31982638639522\n",
      "x_10 = -3.31982638639528\n",
      "x_11 = 3.31982638639538\n",
      "x_12 = -3.31982638639558\n",
      "x_13 = 3.31982638639593\n",
      "x_14 = -3.31982638639658\n",
      "x_15 = 3.31982638639778\n",
      "x_16 = -3.31982638639997\n",
      "x_17 = 3.31982638640399\n",
      "x_18 = -3.31982638641136\n",
      "x_19 = 3.31982638642488\n",
      "x_20 = -3.31982638644966\n"
     ]
    },
    {
     "data": {
      "text/plain": [
       "-3.3198263864496607"
      ]
     },
     "execution_count": 13,
     "metadata": {},
     "output_type": "execute_result"
    }
   ],
   "source": [
    "# Finding a root of F2(x) using the bisection method function to a precision of 10^-15\n",
    "x2 = FindRootBisectionImproved(F2, 1, 5, 10**-15, printSteps=False)\n",
    "# Printing 'x2'\n",
    "print(x2)\n",
    "\n",
    "# Running the Newton-Raphson function with the initial guess 'x2'\n",
    "FindRootNewtonRaphson(p, dp, x2, 10**-15, printSteps=True)\n",
    "#The function oscillates between two numbers (or a certain range around two numbers)\n",
    "#Thus the algorithm does not converge"
   ]
  },
  {
   "cell_type": "markdown",
   "metadata": {},
   "source": [
    "By slightly perturbing the initial guess we can get the method to converge or diverge. Try:\n",
    " - adding $10^{-3}$ to the initial guess. Does the method converge or diverge?\n",
    " - subtracting $10^{-3}$ from the initial guess. Does the method converge or diverge?\n",
    " \n",
    "In both cases set the final argument to 'True' to get the function to print the steps the method is taking"
   ]
  },
  {
   "cell_type": "code",
   "execution_count": 30,
   "metadata": {},
   "outputs": [
    {
     "name": "stdout",
     "output_type": "stream",
     "text": [
      "x_2 = -3.32166017534519\n",
      "x_3 = 3.32318941448715\n",
      "x_4 = -3.32599474945762\n",
      "x_5 = 3.33114299306828\n",
      "x_6 = -3.34059743357331\n",
      "x_7 = 3.35798209341784\n",
      "x_8 = -3.39002330308570\n",
      "x_9 = 3.44932929068402\n",
      "x_10 = -3.55995186656902\n",
      "x_11 = 3.76918950842535\n",
      "x_12 = -4.17488530024873\n",
      "x_13 = 4.99611226215040\n",
      "x_14 = -6.78235424035062\n",
      "x_15 = 11.13059074592057\n",
      "x_16 = -23.56748729018789\n",
      "x_17 = 67.33071923403993\n",
      "x_18 = -262.81601050239101\n",
      "x_19 = 1383.63440312091529\n",
      "x_20 = -9582.52377428959335\n",
      "x_2 = -3.31799291955419\n",
      "x_3 = 3.31646503192368\n",
      "x_4 = -3.31366473335724\n",
      "x_5 = 3.30853432591229\n",
      "x_6 = -3.29914150942784\n",
      "x_7 = 3.28196707676465\n",
      "x_8 = -3.25063825727745\n",
      "x_9 = 3.19373767283563\n",
      "x_10 = -3.09122130707552\n",
      "x_11 = 2.90927347399647\n",
      "x_12 = -2.59540431535339\n",
      "x_13 = 2.08314783302632\n",
      "x_14 = -1.33723662271008\n",
      "x_15 = 0.50112317029319\n",
      "x_16 = -0.03825335712855\n",
      "x_17 = 0.00001864804651\n",
      "x_18 = -0.00000000000000\n",
      "x_19 = 0.00000000000000\n",
      "x_20 = 0.00000000000000\n"
     ]
    },
    {
     "data": {
      "text/plain": [
       "0.0"
      ]
     },
     "execution_count": 30,
     "metadata": {},
     "output_type": "execute_result"
    }
   ],
   "source": [
    "# Adding 10^-3 to 'x2' and assigning it to 'x3'\n",
    "# Subtracting 10^-3 from 'x2' and assigning it to 'x4'\n",
    "x3 = x2 + 10**-3\n",
    "x4 = x2 - 10**-3\n",
    "\n",
    "# Running the Newton-Raphson function for 'x3' and 'x4', printing the steps\n",
    "FindRootNewtonRaphson(p, dp, x3, 10**-15, printSteps=True)\n",
    "#The function oscillates between positive and negative, tending toward larger values. Thus the algorithm does not converge\n",
    "\n",
    "FindRootNewtonRaphson(p, dp, x4, 10**-15, printSteps=True)\n",
    "#The function converges to the zero root"
   ]
  },
  {
   "cell_type": "markdown",
   "metadata": {},
   "source": [
    "**Commit this question to your git repository and push the changes to GitHub**"
   ]
  },
  {
   "cell_type": "markdown",
   "metadata": {},
   "source": [
    "## Question 3: Slow convergence of the Newton-Raphson method at repeated roots\n",
    "The Newton-Raphson method usual converges quadratically but it will converge more slowly at repeated roots. In this question we will look at an example of this."
   ]
  },
  {
   "cell_type": "markdown",
   "metadata": {},
   "source": [
    "Define the function $g(x) = (x-2)^2(x+1)$, and also define its derivative $g'(x)$. Plot the function from $x=-2\\dots3$"
   ]
  },
  {
   "cell_type": "code",
   "execution_count": 15,
   "metadata": {},
   "outputs": [
    {
     "data": {
      "image/png": "[encoded data removed]",
      "text/plain": [
       "<Figure size 432x288 with 1 Axes>"
      ]
     },
     "metadata": {
      "needs_background": "light"
     },
     "output_type": "display_data"
    }
   ],
   "source": [
    "# Defining the function \"g(x)\" and its derivative as \"g'(x)\"\n",
    "def g(x):\n",
    "    result = (x-2)**2*(x+1)\n",
    "    return result\n",
    "def dg(x):\n",
    "    result = 3*(x-2)*x\n",
    "    return result\n",
    "\n",
    "# Creating an array in the range -2 to 3 to plot g(x) against\n",
    "x = np.arange(-2,3,0.01)\n",
    "y = g(x)\n",
    "\n",
    "# Plotting g(x)\n",
    "plt.plot(x, y)\n",
    "plt.xlabel(\"x\")\n",
    "plt.ylabel(\"g(x)\")\n",
    "plt.grid()\n",
    "plt.title(\"g(x) vs x\")\n",
    "plt.show()"
   ]
  },
  {
   "cell_type": "markdown",
   "metadata": {},
   "source": [
    "Run the FindRootNewtonRaphson function with the final (optional) argument set to True to see the steps the algorithm takes. Run it with:\n",
    " - the initial value of $x_0 = 3$\n",
    " - the initial value of $x_0 = -2$"
   ]
  },
  {
   "cell_type": "code",
   "execution_count": 16,
   "metadata": {},
   "outputs": [
    {
     "name": "stdout",
     "output_type": "stream",
     "text": [
      "x_2 = 2.55555555555556\n",
      "x_3 = 2.29790660225443\n",
      "x_4 = 2.15539019921377\n",
      "x_5 = 2.07956221041436\n",
      "x_6 = 2.04028843517102\n",
      "x_7 = 2.02027680978673\n",
      "x_8 = 2.01017232343142\n",
      "x_9 = 2.00509474109328\n",
      "x_10 = 2.00254952808283\n",
      "x_11 = 2.00127530502624\n",
      "x_12 = 2.00063778796033\n",
      "x_13 = 2.00031892786715\n",
      "x_14 = 2.00015947240847\n",
      "x_15 = 2.00007973832335\n",
      "x_16 = 2.00003986969151\n",
      "x_17 = 2.00001993497822\n",
      "x_18 = 2.00000996752222\n",
      "x_19 = 2.00000498376939\n",
      "x_20 = 2.00000249188677\n",
      "x_2 = -1.33333333333333\n",
      "x_3 = -1.05555555555556\n",
      "x_4 = -1.00194931773879\n",
      "x_5 = -1.00000252829797\n",
      "x_6 = -1.00000000000426\n",
      "x_7 = -1.00000000000000\n",
      "x_8 = -1.00000000000000\n"
     ]
    },
    {
     "data": {
      "text/plain": [
       "-1.0"
      ]
     },
     "execution_count": 16,
     "metadata": {},
     "output_type": "execute_result"
    }
   ],
   "source": [
    "# Running the Newton-Raphson function for 3 and -2\n",
    "FindRootNewtonRaphson(g, dg, 3, 10**-15, True)\n",
    "FindRootNewtonRaphson(g, dg, -2, 10**-15, True)\n",
    "\n",
    "#The convergence of the repeated root (x=2) takes longer (not reaching the required tolerance in the run time of the function)\n",
    "#The convergence of the single root (x=-1) finishes in 7 loops of the function."
   ]
  },
  {
   "cell_type": "markdown",
   "metadata": {},
   "source": [
    "What do you notice about the convergence rates in these two cases? Let's examine it more carefully. The function below returns the individual steps of the Newton-Raphson algorithm."
   ]
  },
  {
   "cell_type": "code",
   "execution_count": 17,
   "metadata": {},
   "outputs": [],
   "source": [
    "def FindRootNewtonRaphsonSteps(f, df, x0, tol):\n",
    "    steps = np.array([x0])\n",
    "    f0 = f(x0)\n",
    "    count = 1\n",
    "    while np.abs(f0) > tol:\n",
    "        f0 = f(x0)\n",
    "        x0 = x0 - f0/df(x0)\n",
    "        steps = np.append(steps, x0)\n",
    "        count += 1\n",
    "    return steps"
   ]
  },
  {
   "cell_type": "markdown",
   "metadata": {},
   "source": [
    "Using the above function:\n",
    "- compute the steps for the function $g(x)$ with  $x_0 = 3$. Assign the result to a variable.\n",
    "- compute the steps for the function $g(x)$ with  $x_0 = -2$. Assign the result to a different variable."
   ]
  },
  {
   "cell_type": "code",
   "execution_count": 18,
   "metadata": {},
   "outputs": [
    {
     "name": "stdout",
     "output_type": "stream",
     "text": [
      "[3.         2.55555556 2.2979066  2.1553902  2.07956221 2.04028844\n",
      " 2.02027681 2.01017232 2.00509474 2.00254953 2.00127531 2.00063779\n",
      " 2.00031893 2.00015947 2.00007974 2.00003987 2.00001993 2.00000997\n",
      " 2.00000498 2.00000249 2.00000125 2.00000062 2.00000031 2.00000016\n",
      " 2.00000008 2.00000004 2.00000002 2.00000001 2.        ]\n",
      "[-2.         -1.33333333 -1.05555556 -1.00194932 -1.00000253 -1.\n",
      " -1.         -1.        ]\n"
     ]
    }
   ],
   "source": [
    "# Computing the steps for g(x) starting with 3, assigning the result to three_steps\n",
    "three_steps = FindRootNewtonRaphsonSteps(g, dg, 3, 10**-15)\n",
    "print(three_steps)\n",
    "\n",
    "# Computing the steps for g(x) starting with -2, assigning the result to minus_two_steps\n",
    "minus_two_steps = FindRootNewtonRaphsonSteps(g, dg, -2, 10**-15)\n",
    "print(minus_two_steps)"
   ]
  },
  {
   "cell_type": "markdown",
   "metadata": {},
   "source": [
    "Plot the absolute difference between the steps and the root, i.e., $|x_n - x_*|$, on a log scale."
   ]
  },
  {
   "cell_type": "code",
   "execution_count": 19,
   "metadata": {},
   "outputs": [
    {
     "data": {
      "image/png": "[encoded data removed]",
      "text/plain": [
       "<Figure size 432x288 with 1 Axes>"
      ]
     },
     "metadata": {
      "needs_background": "light"
     },
     "output_type": "display_data"
    }
   ],
   "source": [
    "# Calculating the absolute differences between the roots and their respective steps.\n",
    "# print statements included for debugging\n",
    "abs_three_steps = abs(three_steps - 2)\n",
    "#print(abs_three_steps)\n",
    "abs_minus_two_steps = abs(minus_two_steps - -1)\n",
    "#print(abs_minus_two_steps)\n",
    "\n",
    "# Creating step number vector based on length of array\n",
    "step_number_three = np.arange(0, np.size(abs_three_steps), 1)\n",
    "step_number_two = np.arange(0, np.size(abs_minus_two_steps), 1)\n",
    "\n",
    "# Plotting both absolute difference arrays on the same log plot\n",
    "plt.plot(step_number_three, abs_three_steps, color = 'r', label='repeated root')\n",
    "plt.plot(step_number_two, abs_minus_two_steps, color = 'b', label='single root')\n",
    "\n",
    "plt.xlabel(\"Step number\")\n",
    "plt.ylabel(\"Absolute difference between step and root\")\n",
    "plt.yscale('log')\n",
    "plt.title(\"Root convergence of NR Method\")\n",
    "plt.grid()\n",
    "plt.legend()\n",
    "plt.show()\n",
    "\n",
    "# The difference for the repeated root looks linear on the log plot\n",
    "# The difference for the single root looks quadratic on the log plot"
   ]
  },
  {
   "cell_type": "markdown",
   "metadata": {},
   "source": [
    "You should find the difference for the repeated root looks linear on the log-scale, which is the same as we saw for the bisection method. This (correctly) suggests that for repeated roots the Newton-Raphson converges linearly (rather than quadratically)"
   ]
  },
  {
   "cell_type": "markdown",
   "metadata": {},
   "source": [
    "**Commit this question to your git repository and push the changes to GitHub**"
   ]
  },
  {
   "cell_type": "markdown",
   "metadata": {},
   "source": [
    "## Submitting the assignment\n",
    "\n",
    "Submit the assignment the same way you did with the first one.\n",
    "\n",
    "To submit your assignment you should zip the ACM20030-Assignments folder. Rename the zip file ACM20030-Assignments2-STUDENTNUMBER.zip where STUDENTNUMBER is your student number. Upload the zip file to BrightSpace."
   ]
  },
  {
   "cell_type": "code",
   "execution_count": null,
   "metadata": {},
   "outputs": [],
   "source": []
  }
 ],
 "metadata": {
  "kernelspec": {
   "display_name": "Python 3",
   "language": "python",
   "name": "python3"
  },
  "language_info": {
   "codemirror_mode": {
    "name": "ipython",
    "version": 3
   },
   "file_extension": ".py",
   "mimetype": "text/x-python",
   "name": "python",
   "nbconvert_exporter": "python",
   "pygments_lexer": "ipython3",
   "version": "3.7.1"
  }
 },
 "nbformat": 4,
 "nbformat_minor": 2
}
