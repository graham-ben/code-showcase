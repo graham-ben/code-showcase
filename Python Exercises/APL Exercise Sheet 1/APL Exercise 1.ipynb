{
 "cells": [
  {
   "cell_type": "markdown",
   "metadata": {},
   "source": [
    "## Exercise 1"
   ]
  },
  {
   "cell_type": "code",
   "execution_count": 17,
   "metadata": {},
   "outputs": [],
   "source": [
    "import numpy as np\n",
    "import matplotlib.pyplot as plt\n",
    "%matplotlib inline\n",
    "\n",
    "#for part (c)\n",
    "import re"
   ]
  },
  {
   "cell_type": "markdown",
   "metadata": {},
   "source": [
    "(a) Program to convert Celsius to Fahrenheit"
   ]
  },
  {
   "cell_type": "code",
   "execution_count": 18,
   "metadata": {},
   "outputs": [
    {
     "name": "stdout",
     "output_type": "stream",
     "text": [
      "Please enter a temperature in Celsius: -40\n",
      "The temperature is -40.00 in Fahrenheit\n"
     ]
    }
   ],
   "source": [
    "temp_celsius = float(input(\"Please enter a temperature in Celsius: \"))\n",
    "temp_fahrenheit = round((9/5)*temp_celsius+32,2)\n",
    "print(f\"The temperature is {temp_fahrenheit:.02f} in Fahrenheit\")"
   ]
  },
  {
   "cell_type": "markdown",
   "metadata": {},
   "source": [
    "(b) Celsius to Fahrenheit conversion handled by a defined function"
   ]
  },
  {
   "cell_type": "code",
   "execution_count": 19,
   "metadata": {},
   "outputs": [
    {
     "name": "stdout",
     "output_type": "stream",
     "text": [
      "Please enter a temperature in Celsius: 40\n",
      "The temperature is 104.00 in Fahrenheit\n"
     ]
    }
   ],
   "source": [
    "def CelsiusToFahrenheit(temp_celsius):\n",
    "    temp_fahrenheit = round((9/5)*float(temp_celsius)+32,2)\n",
    "    return temp_fahrenheit\n",
    "\n",
    "temp_celsius = float(input(\"Please enter a temperature in Celsius: \"))\n",
    "print(f\"The temperature is {CelsiusToFahrenheit(temp_celsius):.02f} in Fahrenheit\")"
   ]
  },
  {
   "cell_type": "markdown",
   "metadata": {},
   "source": [
    "(c) Dictionary temperature conversion"
   ]
  },
  {
   "cell_type": "code",
   "execution_count": 20,
   "metadata": {},
   "outputs": [
    {
     "data": {
      "text/plain": [
       "{'C': 32.0, 'F': 89.6, 'K': -241.14999999999998}"
      ]
     },
     "execution_count": 20,
     "metadata": {},
     "output_type": "execute_result"
    }
   ],
   "source": [
    "def GeneralTemperatureConversion(input_temp):\n",
    "    if \"c\" in input_temp or \"C\" in input_temp:\n",
    "        #print(\"C detected\") for debugging\n",
    "        dict_celsius_temp = input_temp.split(' ')[0]\n",
    "        #print(dict_celsius_temp) for debugging\n",
    "        \n",
    "    elif \"f\" in input_temp or \"F\" in input_temp:\n",
    "        #print(\"F detected\") for debugging\n",
    "        fahrenheit_temp = input_temp.split(' ')[0]\n",
    "        #print(fahrenheit_temp) for debugging\n",
    "        \n",
    "        #converting to Celsius for standardised dictionary creation\n",
    "        dict_celsius_temp = (5/9)*(float(fahrenheit_temp)-32)\n",
    "        #print(dict_celsius_temp) for debugging\n",
    "        \n",
    "    elif \"k\" in input_temp or \"K\" in input_temp:\n",
    "        #print(\"K detected\") for debugging\n",
    "        kelvin_temp = input_temp.split(' ')[0]\n",
    "        #print(kelvin_temp) for debugging\n",
    "        \n",
    "        #converting to Celsius for standardised dictionary creation\n",
    "        dict_celsius_temp = float(kelvin_temp) + 273.15\n",
    "        #print(dict_celsius_temp) for debugging\n",
    "        \n",
    "    else:\n",
    "        return None\n",
    "    \n",
    "    #Defining the dictionary to be returned\n",
    "    temperature_dict = {}\n",
    "    temperature_dict[\"C\"] = float(dict_celsius_temp)\n",
    "    temperature_dict[\"F\"] = CelsiusToFahrenheit(dict_celsius_temp)\n",
    "    temperature_dict[\"K\"] = float(dict_celsius_temp) - 273.15\n",
    "    return temperature_dict\n",
    "GeneralTemperatureConversion(\"32 C\")\n",
    "#%timeit GeneralTemperatureConversion(\"4 F\")"
   ]
  },
  {
   "cell_type": "markdown",
   "metadata": {},
   "source": [
    "Note: The above function was compared with a function using lower(). The use of OR statements is marginally faster."
   ]
  },
  {
   "cell_type": "markdown",
   "metadata": {},
   "source": [
    "(d) Testing the function from (c)"
   ]
  },
  {
   "cell_type": "code",
   "execution_count": 21,
   "metadata": {},
   "outputs": [
    {
     "name": "stdout",
     "output_type": "stream",
     "text": [
      "Enter a temperature and scale (separated by a space) for conversion: 38 f\n",
      "Celsius: 3.33 C, Fahrenheit: 38.00 F, Kelvin: -269.82 K\n"
     ]
    }
   ],
   "source": [
    "test_dict = GeneralTemperatureConversion(input(\"Enter a temperature and scale (separated by a space) for conversion: \"))\n",
    "\n",
    "if test_dict == None:\n",
    "    print(\"Error: Incorrect input format\")\n",
    "else:\n",
    "    print(f\"Celsius: {test_dict['C']:.02f} C, Fahrenheit: {test_dict['F']:.02f} F, Kelvin: {test_dict['K']:.02f} K\")"
   ]
  },
  {
   "cell_type": "markdown",
   "metadata": {},
   "source": [
    "(e) Table output for a defined range"
   ]
  },
  {
   "cell_type": "code",
   "execution_count": 25,
   "metadata": {},
   "outputs": [
    {
     "name": "stdout",
     "output_type": "stream",
     "text": [
      "Enter start, end and step size (in Celsius) for range (separated by spaces): -20 50 5\n",
      "   -20.0     -28.9\n",
      "   -15.0     -26.1\n",
      "   -10.0     -23.3\n",
      "    -5.0     -20.6\n",
      "     0.0     -17.8\n",
      "     5.0     -15.0\n",
      "    10.0     -12.2\n",
      "    15.0      -9.4\n",
      "    20.0      -6.7\n",
      "    25.0      -3.9\n",
      "    30.0      -1.1\n",
      "    35.0       1.7\n",
      "    40.0       4.4\n",
      "    45.0       7.2\n"
     ]
    }
   ],
   "source": [
    "input_values = input(\"Enter start, end and step size (in Celsius) for range (separated by spaces): \").split()\n",
    "# print(input_values)\n",
    "\n",
    "#Separating input values\n",
    "init_value = int(input_values[0])\n",
    "final_value = int(input_values[1])\n",
    "step_size = int(input_values[2])\n",
    "# print(init_value, final_value, step_size)\n",
    "\n",
    "for k in range(init_value, final_value, step_size):\n",
    "    print('{:>8}  {:>8}'.format(round(float(k),1), round(float(GeneralTemperatureConversion(str(k)+\" F\")['C']),1)))"
   ]
  },
  {
   "cell_type": "markdown",
   "metadata": {},
   "source": [
    "(e) Modifying the function from (d) to save to a text file"
   ]
  },
  {
   "cell_type": "code",
   "execution_count": 24,
   "metadata": {},
   "outputs": [
    {
     "name": "stdout",
     "output_type": "stream",
     "text": [
      "Enter start, end and step size (in Celsius) for range (separated by spaces): 2 20 1\n",
      "Enter the name of the output file to be created (string must not be empty): exercise 1 output\n"
     ]
    }
   ],
   "source": [
    "input_values = input(\"Enter start, end and step size (in Celsius) for range (separated by spaces): \").split()\n",
    "filename = input(\"Enter the name of the output file to be created (string must not be empty): \")\n",
    "\n",
    "init_value = int(input_values[0])\n",
    "final_value = int(input_values[1])\n",
    "step_size = int(input_values[2])\n",
    "\n",
    "\n",
    "#checking if the file name isn't empty\n",
    "if filename != \"\":\n",
    "    fh = open(f\"{filename}.txt\",\"w\")\n",
    "    for k in range(init_value, final_value, step_size):\n",
    "        fh.write('{:>8}  {:>8}'.format(round(float(k),1), round(float(GeneralTemperatureConversion(str(k)+\" F\")['C']),1))+\"\\n\")\n",
    "    fh.close()\n",
    "else:\n",
    "    print(\"Error: File is non-empty\")"
   ]
  },
  {
   "cell_type": "code",
   "execution_count": null,
   "metadata": {},
   "outputs": [],
   "source": []
  }
 ],
 "metadata": {
  "kernelspec": {
   "display_name": "Python 3",
   "language": "python",
   "name": "python3"
  },
  "language_info": {
   "codemirror_mode": {
    "name": "ipython",
    "version": 3
   },
   "file_extension": ".py",
   "mimetype": "text/x-python",
   "name": "python",
   "nbconvert_exporter": "python",
   "pygments_lexer": "ipython3",
   "version": "3.7.1"
  }
 },
 "nbformat": 4,
 "nbformat_minor": 4
}
