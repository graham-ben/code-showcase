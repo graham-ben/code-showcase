{
 "cells": [
  {
   "cell_type": "markdown",
   "metadata": {},
   "source": [
    "## Error Analysis"
   ]
  },
  {
   "cell_type": "code",
   "execution_count": 2,
   "metadata": {},
   "outputs": [],
   "source": [
    "import numpy as np\n",
    "from scipy.stats import norm\n",
    "from scipy.stats import sem\n",
    "from scipy.stats import poisson"
   ]
  },
  {
   "cell_type": "markdown",
   "metadata": {},
   "source": [
    "## Q1 - Meteor Showers"
   ]
  },
  {
   "cell_type": "markdown",
   "metadata": {},
   "source": [
    "(a) Mean counting rate is 50 per hour which implies that the mean counting rate per 30 seconds is $\\frac{50}{120}$. Camera fov is 10% so the probability of seeing a meteor with the camera in 30 seconds is $\\frac{50}{120}\\frac{1}{10}=\\frac{1}{24}$\n",
    "\n",
    "There is a 4.16% chance of seeing (at least) one meteor during a single 30 second exposure.\n",
    "\n",
    "Using the poisson distribution, where $P(n)$ is the probability of obtaining $n$ events in a given interval and $µ$ is the mean of the distribution, we can calculate the probability of catching exatly one meteor as follows:\n",
    "\n",
    "$$P(n) =\\frac{μ^{n}e^{−μ}}{n!} = \\frac{0.04167^{1}e^{-0.04167}}{1!} = 0.0399$$\n",
    "\n",
    "(b) The probability of catching one or more meteors in a single 30 second exposure is given by:\n",
    "\n",
    "$$1-P(0) = 1-\\frac{μ^{0}e^{−μ}}{0!} = 1-\\frac{e^{-0.04167}}{1} = 0.0408$$\n",
    "\n",
    "(c) The probability of recording at least one meteor over the course of 10 $\\times$ 30 second exposures is given by:\n",
    "\n",
    "$$1-P(0)^{10} = 1-(\\frac{μ^{0}e^{−μ}}{0!})^{10} = 1-(\\frac{e^{-0.04167}}{1})^{10} = 0.3408$$\n",
    "\n",
    "The standard deviation is not included given the low value of the mean."
   ]
  },
  {
   "cell_type": "markdown",
   "metadata": {},
   "source": [
    "## Q2 - Sprint times"
   ]
  },
  {
   "cell_type": "markdown",
   "metadata": {},
   "source": [
    "The quantity $\\frac{1}{n}$ (where $n$ = total number of students in the country) represents the 1 person in the area under the Gaussian curve with the fastest time to run the 100m. When this is input into the norm.ppf function, it returns the time of this person.\n",
    "\n",
    "It follows from this that the time of the 2nd, 3rd and 4th fastest students have an area of $\\frac{2}{n}$, $\\frac{3}{n}$, $\\frac{4}{n}$. to the left under the curve."
   ]
  },
  {
   "cell_type": "code",
   "execution_count": 67,
   "metadata": {},
   "outputs": [
    {
     "name": "stdout",
     "output_type": "stream",
     "text": [
      "Fastest individual in Ireland: 10.8925 seconds\n",
      "Fastest individual in U.K.: 10.3886 seconds\n",
      "Difference between the individuals: 0.5039 seconds\n",
      "Difference between the teams = 2.0956 seconds\n"
     ]
    }
   ],
   "source": [
    "def sprint_time(q):\n",
    "    time = norm.ppf(q,loc=15,scale=1)\n",
    "    return time\n",
    "\n",
    "#Fastest individuals and the difference between them\n",
    "\n",
    "ireland_indiv = sprint_time(1/50000)\n",
    "UK_indiv = sprint_time(1/500000)\n",
    "\n",
    "print(f\"Fastest individual in Ireland: {ireland_indiv:.4f} seconds\")\n",
    "print(f\"Fastest individual in U.K.: {UK_indiv:.4f} seconds\")\n",
    "print(f\"Difference between the individuals: {ireland_indiv-UK_indiv:.4f} seconds\")\n",
    "\n",
    "#Irish team\n",
    "\n",
    "ireland_areas = [1/50000,2/50000,3/50000,4/50000]\n",
    "four_time_ireland = sum(sprint_time(ireland_areas))\n",
    "\n",
    "#UK team\n",
    "\n",
    "UK_areas = [1/500000,2/500000,3/500000,4/500000]\n",
    "four_time_UK = sum(sprint_time(UK_areas))\n",
    "\n",
    "#Print difference in results\n",
    "print(f\"Difference between the teams = {(four_time_ireland-four_time_UK):.4f} seconds\")"
   ]
  },
  {
   "cell_type": "markdown",
   "metadata": {},
   "source": [
    "## Q3 - Snell's Law"
   ]
  },
  {
   "cell_type": "code",
   "execution_count": 71,
   "metadata": {},
   "outputs": [
    {
     "name": "stdout",
     "output_type": "stream",
     "text": [
      "The value of n2 and its uncertainty is 1.5032 +/- 0.0241\n"
     ]
    }
   ],
   "source": [
    "#Defining variables and their uncertainties\n",
    "n1 = 1\n",
    "theta1 = np.radians(22.03)\n",
    "delta_theta1 = delta_theta2 = np.radians(0.2)\n",
    "theta2 = np.radians(14.45)\n",
    "\n",
    "#Calculation of n2\n",
    "n2 = n1*np.sin(theta1)/np.sin(theta2)\n",
    "\n",
    "#Propagation of errors\n",
    "delta_sin_theta1 = abs(np.cos(theta1))*delta_theta1\n",
    "delta_sin_theta2 = abs(np.cos(theta2))*delta_theta2\n",
    "# print(delta_sin_theta1, delta_sin_theta2)\n",
    "\n",
    "delta_n2 = abs(n2)*np.sqrt((delta_sin_theta1/np.sin(theta1))**2+(delta_sin_theta2/np.sin(theta2))**2)\n",
    "# print(delta_n2)\n",
    "\n",
    "#Makes sense, same order\n",
    "\n",
    "print(f\"The value of n2 and its uncertainty is {n2:.04f} +/- {delta_n2:.04f}\")"
   ]
  },
  {
   "cell_type": "markdown",
   "metadata": {},
   "source": [
    "This value n2 is reasonable, given the range of indices of refraction. The propagated uncertainty is also reasonable, given that the uncertainty on the angle is of the same order."
   ]
  },
  {
   "cell_type": "markdown",
   "metadata": {},
   "source": [
    "## Q4 - Volume of a cylinder"
   ]
  },
  {
   "cell_type": "code",
   "execution_count": 76,
   "metadata": {},
   "outputs": [
    {
     "name": "stdout",
     "output_type": "stream",
     "text": [
      "Best estimate of diameter: 2.002 +/- 0.042 cm\n",
      "Best estimate of height: 5.024 +/- 0.040 cm\n"
     ]
    }
   ],
   "source": [
    "diameter = np.array([1.96,2.12,1.94,1.96,2.22,2.04,1.75,1.89,2.07,2.07])\n",
    "height = np.array([5.17,5.08,4.94,5.14,5.10,4.73,4.96,5.07,5.05,5.00])\n",
    "\n",
    "#Calculation of means and standard errors on those means\n",
    "diameter_mean = diameter.mean()\n",
    "height_mean = height.mean()\n",
    "\n",
    "diameter_sem = sem(diameter)\n",
    "height_sem = sem(height)\n",
    "\n",
    "#Printing answers\n",
    "\n",
    "print(f\"Best estimate of diameter: {diameter_mean:.03f} +/- {diameter_sem:.03f} cm\")\n",
    "print(f\"Best estimate of height: {height_mean:.03f} +/- {height_sem:.03f} cm\")"
   ]
  },
  {
   "cell_type": "markdown",
   "metadata": {},
   "source": [
    "Propagation of errors formula:\n",
    "\n",
    "$$ dV = \\sqrt{(\\frac{\\partial V}{\\partial r}dr)^2 + (\\frac{\\partial V}{\\partial h}dh)^2}  $$\n",
    "\n",
    "With $V=\\pi r^{2}h$, and $dr, dh = 0.01$cm we have: $$dV = \\sqrt{(2\\pi rhdr)^{2}+(\\pi r^{2}dh)^{2}}$$"
   ]
  },
  {
   "cell_type": "code",
   "execution_count": 77,
   "metadata": {},
   "outputs": [
    {
     "name": "stdout",
     "output_type": "stream",
     "text": [
      "The estimated volume is 15.815 +/- 0.318 cm³\n"
     ]
    }
   ],
   "source": [
    "radius_mean = diameter_mean/2\n",
    "\n",
    "dr = dh = 0.01\n",
    "\n",
    "def cylinder(r,h):\n",
    "    return np.pi*(r**2)*h\n",
    "\n",
    "vol = cylinder(radius_mean, height_mean)\n",
    "\n",
    "def ddr_cylinder(r,h):\n",
    "     return 2*np.pi*r*h\n",
    "    \n",
    "def ddh_cylinder(r,h):\n",
    "    return np.pi*(r**2)\n",
    "\n",
    "def vol_error(r,h):\n",
    "    return np.sqrt((ddr_cylinder(r, h)*dr)**2 + (ddh_cylinder(r, h)*dh)**2)\n",
    "\n",
    "\n",
    "print(f\"The estimated volume is {np.around(vol,3)} +/- {np.around(vol_error(radius_mean, height_mean),3)} cm\\u00B3\")"
   ]
  },
  {
   "cell_type": "code",
   "execution_count": 78,
   "metadata": {},
   "outputs": [
    {
     "name": "stdout",
     "output_type": "stream",
     "text": [
      "The volume of measurement 1 is 15.599 +/- 0.32 cm³\n",
      "The volume of measurement 2 is 17.932 +/- 0.34 cm³\n",
      "The volume of measurement 3 is 14.602 +/- 0.303 cm³\n",
      "The volume of measurement 4 is 15.508 +/- 0.318 cm³\n",
      "The volume of measurement 5 is 19.741 +/- 0.358 cm³\n",
      "The volume of measurement 6 is 15.46 +/- 0.305 cm³\n",
      "The volume of measurement 7 is 11.93 +/- 0.274 cm³\n",
      "The volume of measurement 8 is 14.224 +/- 0.302 cm³\n",
      "The volume of measurement 9 is 16.995 +/- 0.33 cm³\n",
      "The volume of measurement 10 is 16.827 +/- 0.327 cm³\n",
      "The best estimate of the volume and uncertainty is 15.882 +/- 0.318 cm³.\n"
     ]
    }
   ],
   "source": [
    "volumes = cylinder((diameter/2),height)\n",
    "vol_errors = vol_error((diameter/2),height)\n",
    "\n",
    "for i in range(len(volumes)):\n",
    "    print(f\"The volume of measurement {i+1} is {np.around(volumes[i],3)} +/- {np.around(vol_errors[i],3)} cm\\u00B3\")\n",
    "    \n",
    "vol_mean = np.mean(volumes)\n",
    "vol_error_mean = np.mean(vol_errors)\n",
    "\n",
    "print(f\"The best estimate of the volume and uncertainty is {np.around(vol_mean,3)} +/- {np.around(vol_error_mean,3)} cm\\u00B3.\")"
   ]
  },
  {
   "cell_type": "markdown",
   "metadata": {},
   "source": [
    "The values for volume and the uncertainty on that volume are similar to those calculated in the previous question, the value of the volume being ~0.5% greater. "
   ]
  }
 ],
 "metadata": {
  "kernelspec": {
   "display_name": "Python 3",
   "language": "python",
   "name": "python3"
  },
  "language_info": {
   "codemirror_mode": {
    "name": "ipython",
    "version": 3
   },
   "file_extension": ".py",
   "mimetype": "text/x-python",
   "name": "python",
   "nbconvert_exporter": "python",
   "pygments_lexer": "ipython3",
   "version": "3.7.1"
  }
 },
 "nbformat": 4,
 "nbformat_minor": 4
}
